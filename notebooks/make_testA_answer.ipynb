{
 "cells": [
  {
   "cell_type": "code",
   "execution_count": 1,
   "metadata": {},
   "outputs": [],
   "source": [
    "import json\n",
    "import os"
   ]
  },
  {
   "cell_type": "code",
   "execution_count": null,
   "metadata": {},
   "outputs": [],
   "source": []
  },
  {
   "cell_type": "code",
   "execution_count": 2,
   "metadata": {},
   "outputs": [
    {
     "name": "stdout",
     "output_type": "stream",
     "text": [
      "3000 ['0081344', '0000045', '0046276', '0040845', '0124115']\n",
      "['\\\\begin', '{aligned}', '\\\\left', '.', '\\\\begin', '{array}', '{', 'r', 'l', '}', 'S', '_', '{', '3', 'm', 'n', 'r', 's', '}', '(', 'X', ',', 'Y', ',', 'z', ')', '=', '\\\\iint', '\\\\sigma', '_', '{', '1', 'm', 'n', 'r', 's', '}', '\\\\left', '(', '\\\\nu', '_', '{', '1', '}', ',', '\\\\nu', '_', '{', '2', '}', ',', 'z', '\\\\right', ')', '\\\\exp', '\\\\left', '\\\\{', '\\\\mathrm', '{', 'i', '}', '\\\\left', '(', '\\\\nu', '_', '{', '1', '}', 'X', '+', '\\\\nu', '_', '{', '2', '}', 'Y', '\\\\right', ')', '\\\\right', '\\\\}', '\\\\mathrm', '{', 'd', '}', '\\\\nu', '_', '{', '2', '}', '\\\\mathrm', '{', '~', 'd', '}', '\\\\nu', '_', '{', '2', '}', '\\\\\\\\', 'S', '_', '{', '4', 'm', 'n', 'r', 's', '}', '(', 'X', ',', 'Y', ',', 'z', ')', '=', '\\\\iint', '\\\\sigma', '_', '{', '2', 'm', 'n', 'r', 's', '}', '\\\\left', '(', '\\\\nu', '_', '{', '1', '}', ',', '\\\\nu', '_', '{', '2', '}', ',', 'z', '\\\\right', ')', '\\\\exp', '\\\\left', '\\\\{', '\\\\mathrm', '{', 'i', '}', '\\\\left', '(', '\\\\nu', '_', '{', '1', '}', 'X', '+', '\\\\nu', '_', '{', '2', '}', 'Y', '\\\\right', ')', '\\\\right', '\\\\}', '\\\\mathrm', '{', 'd', '}', 'v', '_', '{', '1', '}', '\\\\mathrm', '{', '~', 'd', '}', '\\\\nu', '_', '{', '2', '}', '\\\\\\\\', 'K', '_', '{', '2', 'm', 'n', 'r', 's', '}', '(', 'X', ',', 'Y', ',', 'z', ')', '=', '\\\\iint', '\\\\kappa', '_', '{', 'm', 'n', 'r', 's', '}', '\\\\left', '(', '\\\\nu', '_', '{', '1', '}', ',', '\\\\nu', '_', '{', '2', '}', ',', 'z', '\\\\right', ')', '\\\\exp', '\\\\left', '\\\\{', '\\\\mathrm', '{', 'i', '}', '\\\\left', '(', '\\\\nu', '_', '{', '1', '}', 'X', '+', '\\\\nu', '_', '{', '2', '}', 'Y', '\\\\right', ')', '\\\\right', '\\\\}', '\\\\mathrm', '{', 'd', '}', 'v', '_', '{', '1', '}', '\\\\mathrm', '{', '~', 'd', '}', '\\\\nu', '_', '{', '2', '}', '\\\\end', '{array}', '\\\\right', '\\\\}', '\\\\end', '{aligned}']\n"
     ]
    }
   ],
   "source": [
    "pred_dir = '../testdata/result'\n",
    "# TODO\n",
    "pred_files = os.listdir(pred_dir)\n",
    "pred_dict = {}\n",
    "\n",
    "for pred_file in pred_files:\n",
    "    with open(os.path.join(pred_dir, pred_file), 'r',encoding='utf-8') as f:\n",
    "            latex = f.readlines()[1].strip()\n",
    "            if latex[0] == '$' and latex[-1] == '$':\n",
    "                # replace start and end '$'\n",
    "                latex = latex[1:-1]\n",
    "            pred_dict[pred_file.split(\".\")[0]] = latex.split()\n",
    "        \n",
    "print(len(pred_dict.keys()),list(pred_dict.keys())[:5])\n",
    "\n",
    "print(pred_dict[list(pred_dict.keys())[0]])"
   ]
  },
  {
   "cell_type": "code",
   "execution_count": 3,
   "metadata": {},
   "outputs": [],
   "source": [
    "answer_list = []\n",
    "\n",
    "keys = [str(i) for i in pred_dict.keys()]\n",
    "keys.sort()\n",
    "for key in keys:\n",
    "\n",
    "    value = pred_dict[key]\n",
    "    it = {\n",
    "        \"filename\": key+'.png',\n",
    "        \"result\":\" \".join(value)\n",
    "    }\n",
    "    answer_list.append(it)\n",
    "\n"
   ]
  },
  {
   "cell_type": "code",
   "execution_count": 4,
   "metadata": {},
   "outputs": [],
   "source": [
    "output_dir = \"../testdata\"\n",
    "json.dump(answer_list, open(os.path.join(output_dir, \"answer.json\"), \"w\"), indent=4)"
   ]
  },
  {
   "cell_type": "code",
   "execution_count": null,
   "metadata": {},
   "outputs": [],
   "source": []
  }
 ],
 "metadata": {
  "kernelspec": {
   "display_name": "CoMER",
   "language": "python",
   "name": "python3"
  },
  "language_info": {
   "codemirror_mode": {
    "name": "ipython",
    "version": 3
   },
   "file_extension": ".py",
   "mimetype": "text/x-python",
   "name": "python",
   "nbconvert_exporter": "python",
   "pygments_lexer": "ipython3",
   "version": "3.7.12"
  }
 },
 "nbformat": 4,
 "nbformat_minor": 2
}
