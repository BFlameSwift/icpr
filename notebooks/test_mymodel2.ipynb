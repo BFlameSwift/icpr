{
 "cells": [
  {
   "cell_type": "code",
   "execution_count": 1,
   "metadata": {},
   "outputs": [],
   "source": [
    "import sys\n",
    "import os\n",
    "\n",
    "# 获取当前工作目录\n",
    "current_dir = os.getcwd()\n",
    "\n",
    "# 添加项目根目录到 sys.path\n",
    "project_dir = os.path.abspath(os.path.join(current_dir, './'))\n",
    "# print(project_dir)\n",
    "sys.path.append(project_dir)\n"
   ]
  },
  {
   "cell_type": "code",
   "execution_count": 2,
   "metadata": {
    "notebookRunGroups": {
     "groupValue": "2"
    }
   },
   "outputs": [],
   "source": [
    "import re\n",
    "from typing import List\n",
    "import numpy as np\n",
    "import editdistance\n",
    "from collections import defaultdict\n",
    "\n",
    "\n",
    "# from pylatexenc.latexwalker import LatexWalker, \n",
    "\n",
    "from pylatexenc.latexwalker import LatexWalker\n",
    "from sklearn.metrics import precision_score, recall_score, f1_score\n"
   ]
  },
  {
   "cell_type": "code",
   "execution_count": 3,
   "metadata": {},
   "outputs": [],
   "source": [
    "def load_lns(fpath: str) -> List[str]:\n",
    "    lns = []\n",
    "    with open(fpath, \"r\") as f:\n",
    "        for ln in f.readlines():\n",
    "            lns.append(ln.strip())\n",
    "    return lns"
   ]
  },
  {
   "cell_type": "markdown",
   "metadata": {},
   "source": [
    "read test caption answer"
   ]
  },
  {
   "cell_type": "code",
   "execution_count": 4,
   "metadata": {},
   "outputs": [
    {
     "name": "stdout",
     "output_type": "stream",
     "text": [
      "../data/test/caption.txt\n",
      " max caption size  823\n",
      "7\n",
      "3000 ['0054734', '0037174', '0031510', '0083407', '0037881']\n",
      "['\\\\begin', '{aligned}', '\\\\boldsymbol', '{', 'K', '}', '=', '\\\\left', '(', '\\\\begin', '{array}', '{', 'c', 'c', 'c', '}', '0', '&', '0', '&', '\\\\frac', '{', '\\\\beta', '_', '{', '\\\\mathrm', '{', 'p', '}', '}', '}', '{', '\\\\gamma', '_', '{', '\\\\mathrm', '{', 'm', '}', '}', '}', '\\\\\\\\', '0', '&', '0', '&', '\\\\frac', '{', '\\\\beta', '_', '{', '\\\\mathrm', '{', 'm', '}', '}', '}', '{', '\\\\gamma', '_', '{', '\\\\mathrm', '{', 'm', '}', '}', '}', '\\\\\\\\', '\\\\mathcal', '{', 'P', '}', '\\\\frac', '{', '\\\\beta', '_', '{', '\\\\mathrm', '{', 'f', '}', '}', '}', '{', '\\\\gamma', '_', '{', '\\\\mathrm', '{', 'p', '}', '}', '}', '&', '\\\\frac', '{', '\\\\beta', '_', '{', '\\\\mathrm', '{', 'f', '}', '}', '}', '{', '\\\\gamma', '_', '{', '\\\\mathrm', '{', 'f', '}', '}', '}', '&', '0', '\\\\end', '{array}', '\\\\right', ')', '\\\\end', '{aligned}']\n"
     ]
    }
   ],
   "source": [
    "test_dir = \"../data/test\"\n",
    "test_caption_dir = os.path.join(test_dir,'caption.txt')\n",
    "print(test_caption_dir)\n",
    "caption_dict = {}\n",
    "\n",
    "captions = load_lns(test_caption_dir)\n",
    "max_caption_size = 0\n",
    "count = 0\n",
    "for cap in captions:\n",
    "    img_name = cap.split()[0]\n",
    "    caption_dict[img_name] = cap.split()[1:]\n",
    "    if len(caption_dict[img_name]) > max_caption_size:\n",
    "        max_caption_size = len(caption_dict[img_name])\n",
    "    if len(caption_dict[img_name]) >= 600:\n",
    "        count += 1\n",
    "print(\" max caption size \",max_caption_size)\n",
    "print(count)\n",
    "print(len(caption_dict.keys()),list(caption_dict.keys())[:5])      \n",
    "print(caption_dict[list(caption_dict.keys())[0]])     "
   ]
  },
  {
   "cell_type": "code",
   "execution_count": 5,
   "metadata": {},
   "outputs": [],
   "source": [
    "version = 78\n",
    "ckp_folder = os.path.join(\"lightning_logs\", f\"version_{version}\", \"checkpoints\")"
   ]
  },
  {
   "cell_type": "code",
   "execution_count": 6,
   "metadata": {},
   "outputs": [
    {
     "name": "stdout",
     "output_type": "stream",
     "text": [
      "2993 ['0004028', '0109606', '0035325', '0097565', '0011280']\n",
      "['\\\\begin', '{aligned}', 'm', '_', '{', 'l', '}', '=', '\\\\left', '(', '\\\\begin', '{array}', '{', 'c', 'c', 'c', '}', '0', '.', '0', '0', '2', '5', '6', '&', '-', '0', '.', '0', '1', '0', '5', '8', '&', '0', '\\\\\\\\', '-', '0', '.', '0', '1', '0', '5', '8', '&', '0', '.', '0', '4', '5', '9', '6', '&', '0', '\\\\\\\\', '0', '&', '0', '&', '1', '\\\\end', '{array}', '\\\\right', ')', 'm', '_', '{', '\\\\tau', '}', '\\\\end', '{aligned}']\n"
     ]
    }
   ],
   "source": [
    "pred_dir = '../result'\n",
    "pred_files = os.listdir(pred_dir)\n",
    "pred_dict = {}\n",
    "\n",
    "for pred_file in pred_files:\n",
    "    with open(os.path.join(pred_dir, pred_file), 'r',encoding='utf-8') as f:\n",
    "            latex = f.readlines()[1].strip()\n",
    "            if latex[0] == '$' and latex[-1] == '$':\n",
    "                # replace start and end '$'\n",
    "                latex = latex[1:-1]\n",
    "            pred_dict[pred_file.split(\".\")[0]] = latex.split()\n",
    "        \n",
    "print(len(pred_dict.keys()),list(pred_dict.keys())[:5])\n",
    "\n",
    "print(pred_dict[list(pred_dict.keys())[0]])"
   ]
  },
  {
   "cell_type": "code",
   "execution_count": 7,
   "metadata": {},
   "outputs": [],
   "source": [
    "\n",
    "def calculate_edit_distance(seq1, seq2):\n",
    "    \"\"\"计算两个Latex序列之间的编辑距离\"\"\"\n",
    "    return editdistance.eval(seq1, seq2)\n",
    "\n",
    "\n",
    "def calculate_accuracy(pred_dict, true_dict):\n",
    "    \"\"\"计算预测结果与真实结果之间的准确率\"\"\"\n",
    "    correct_count = 0\n",
    "    total_count = 0\n",
    "    for key in pred_dict:\n",
    "        if key in true_dict:\n",
    "            pred_seq = pred_dict[key]\n",
    "            true_seq = true_dict[key]\n",
    "            if pred_seq == true_seq:\n",
    "                correct_count += 1\n",
    "            total_count += 1\n",
    "    return correct_count / total_count if total_count > 0 else 0\n",
    "\n",
    "\n",
    "def calculate_precision_recall_f1(pred_dict, true_dict):\n",
    "    \"\"\"计算精确度、召回率和F1分数\"\"\"\n",
    "    all_precisions = []\n",
    "    all_recalls = []\n",
    "    all_f1s = []\n",
    "\n",
    "    for key in pred_dict:\n",
    "        if key in true_dict:\n",
    "            pred_seq = pred_dict[key]\n",
    "            true_seq = true_dict[key]\n",
    "            # 转换为二进制分类\n",
    "            true_labels = [1] * len(true_seq)\n",
    "            pred_labels = [1 if i < len(pred_seq) and pred_seq[i] == true_seq[i] else 0 for i in range(len(true_seq))]\n",
    "            if len(pred_labels) < len(true_labels):\n",
    "                pred_labels.extend([0] * (len(true_labels) - len(pred_labels)))\n",
    "            all_precisions.append(precision_score(true_labels, pred_labels))\n",
    "            all_recalls.append(recall_score(true_labels, pred_labels))\n",
    "            all_f1s.append(f1_score(true_labels, pred_labels))\n",
    "\n",
    "    avg_precision = sum(all_precisions) / len(all_precisions) if all_precisions else 0\n",
    "    avg_recall = sum(all_recalls) / len(all_recalls) if all_recalls else 0\n",
    "    avg_f1 = sum(all_f1s) / len(all_f1s) if all_f1s else 0\n",
    "\n",
    "    return avg_precision, avg_recall, avg_f1\n",
    "\n",
    "def is_valid_latex(seq):\n",
    "    \"\"\"检查LaTeX序列是否合法\"\"\"\n",
    "    latex_str = ''.join(seq)\n",
    "    try:\n",
    "        walker = LatexWalker(latex_str)\n",
    "        nodes, pos, len_ = walker.get_latex_nodes()\n",
    "        return True\n",
    "    except ...:\n",
    "        return False\n",
    "\n",
    "def evaluate_by_length_intervals(pred_dict, true_dict, intervals):\n",
    "    \"\"\"按长度区间计算准确率、编辑距离和合法性\"\"\"\n",
    "    interval_results = defaultdict(lambda: {\n",
    "        'correct_count': 0, \n",
    "        'total_count': 0, \n",
    "        'total_edit_distance': 0,\n",
    "        'invalid_count': 0\n",
    "    })\n",
    "\n",
    "    for key in pred_dict:\n",
    "        if key in true_dict:\n",
    "            pred_seq = pred_dict[key]\n",
    "            true_seq = true_dict[key]\n",
    "            length = len(true_seq)\n",
    "            for start, end in intervals:\n",
    "                if start <= length < end:\n",
    "                    interval_results[(start, end)]['total_count'] += 1\n",
    "                    interval_results[(start, end)]['total_edit_distance'] += calculate_edit_distance(pred_seq, true_seq)\n",
    "                    if pred_seq == true_seq:\n",
    "                        interval_results[(start, end)]['correct_count'] += 1\n",
    "                    if not is_valid_latex(pred_seq):\n",
    "                        interval_results[(start, end)]['invalid_count'] += 1\n",
    "                    break\n",
    "\n",
    "    results = {}\n",
    "    for interval, data in interval_results.items():\n",
    "        correct_count = data['correct_count']\n",
    "        total_count = data['total_count']\n",
    "        total_edit_distance = data['total_edit_distance']\n",
    "        invalid_count = data['invalid_count']\n",
    "        accuracy = correct_count / total_count if total_count > 0 else 0\n",
    "        average_edit_distance = total_edit_distance / total_count if total_count > 0 else 0\n",
    "        results[interval] = {\n",
    "            'accuracy': accuracy,\n",
    "            'average_edit_distance': average_edit_distance,\n",
    "            'total_count': total_count,\n",
    "            'invalid_count': invalid_count\n",
    "        }\n",
    "\n",
    "    return results\n"
   ]
  },
  {
   "cell_type": "code",
   "execution_count": 8,
   "metadata": {},
   "outputs": [],
   "source": [
    "# 定义长度区间\n",
    "intervals = [(0, 100), (100, 200), (200, 300), (300,400),(400,600),(600,700),(700,800),(800,900),(900,1000)]\n",
    "true_dict = caption_dict\n"
   ]
  },
  {
   "cell_type": "code",
   "execution_count": 9,
   "metadata": {},
   "outputs": [
    {
     "name": "stdout",
     "output_type": "stream",
     "text": [
      "Overall Accuracy: 0.5676578683595055\n",
      "Average Precision: 1.0\n",
      "Average Recall: 0.7586926642934555\n",
      "Average F1 Score: 0.7968974208954378\n",
      "Interval Results: {(0, 100): {'accuracy': 0.6905286343612335, 'average_edit_distance': 1.3403083700440528, 'total_count': 908, 'invalid_count': 0}, (100, 200): {'accuracy': 0.5908127208480566, 'average_edit_distance': 2.7180212014134275, 'total_count': 1415, 'invalid_count': 0}, (200, 300): {'accuracy': 0.41954022988505746, 'average_edit_distance': 11.195402298850574, 'total_count': 522, 'invalid_count': 0}, (400, 600): {'accuracy': 0.0, 'average_edit_distance': 157.52777777777777, 'total_count': 36, 'invalid_count': 0}, (300, 400): {'accuracy': 0.15178571428571427, 'average_edit_distance': 33.169642857142854, 'total_count': 112, 'invalid_count': 0}}\n",
      "Interval (0, 100): Accuracy = 0.6905286343612335, Average Edit Distance = 1.3403083700440528, Total Count = 908, Invalid Count = 0\n",
      "Interval (100, 200): Accuracy = 0.5908127208480566, Average Edit Distance = 2.7180212014134275, Total Count = 1415, Invalid Count = 0\n",
      "Interval (200, 300): Accuracy = 0.41954022988505746, Average Edit Distance = 11.195402298850574, Total Count = 522, Invalid Count = 0\n",
      "Interval (400, 600): Accuracy = 0.0, Average Edit Distance = 157.52777777777777, Total Count = 36, Invalid Count = 0\n",
      "Interval (300, 400): Accuracy = 0.15178571428571427, Average Edit Distance = 33.169642857142854, Total Count = 112, Invalid Count = 0\n"
     ]
    }
   ],
   "source": [
    "\n",
    "# 计算整体准确率\n",
    "overall_accuracy = calculate_accuracy(pred_dict, caption_dict)\n",
    "print(f'Overall Accuracy: {overall_accuracy}')\n",
    "\n",
    "# 计算精确度、召回率和F1分数\n",
    "avg_precision, avg_recall, avg_f1 = calculate_precision_recall_f1(pred_dict, true_dict)\n",
    "print(f'Average Precision: {avg_precision}')\n",
    "print(f'Average Recall: {avg_recall}')\n",
    "print(f'Average F1 Score: {avg_f1}')\n",
    "\n",
    "# 计算各长度区间的指标\n",
    "interval_results = evaluate_by_length_intervals(pred_dict, true_dict, intervals)\n",
    "\n",
    "# 调试输出\n",
    "print(f'Interval Results: {interval_results}')\n",
    "\n",
    "for interval, metrics in interval_results.items():\n",
    "    print(f'Interval {interval}: Accuracy = {metrics[\"accuracy\"]}, Average Edit Distance = {metrics[\"average_edit_distance\"]}, Total Count = {metrics[\"total_count\"]}, Invalid Count = {metrics[\"invalid_count\"]}')"
   ]
  },
  {
   "cell_type": "markdown",
   "metadata": {},
   "source": [
    "分析模型分析错误的原因，图片分辨率，过长？ 还是。\n",
    "\n",
    "标准化。\n",
    "测其他的指标"
   ]
  },
  {
   "cell_type": "markdown",
   "metadata": {},
   "source": []
  },
  {
   "cell_type": "code",
   "execution_count": 15,
   "metadata": {},
   "outputs": [
    {
     "name": "stdout",
     "output_type": "stream",
     "text": [
      "  ground truth image \n"
     ]
    },
    {
     "data": {
      "image/png": "[encoded data removed]",
      "text/plain": [
       "<PIL.BmpImagePlugin.BmpImageFile image mode=L size=866x128 at 0x7F437EF46250>"
      ]
     },
     "metadata": {},
     "output_type": "display_data"
    },
    {
     "name": "stdout",
     "output_type": "stream",
     "text": [
      "['\\\\begin', '{aligned}', '\\\\left', '.', '\\\\begin', '{array}', '{', 'l', 'l', '}', 'B', '_', '{', '1', '}', '^', '{', '\\\\prime', '}', '=', 'B', '_', '{', '1', '}', '-', '(', '\\\\kappa', '+', '1', ')', ',', 'B', '_', '{', '2', '}', '^', '{', '\\\\prime', '}', '=', 'B', '_', '{', '2', '}', '-', '\\\\frac', '{', '1', '}', '{', '2', '}', '(', '\\\\kappa', '+', '1', ')', '^', '{', '2', '}', ',', '\\\\\\\\', 'B', '_', '{', '1', '}', '^', '{', '\\\\prime', '\\\\prime', '}', '=', 'B', '_', '{', '1', '}', '+', '\\\\frac', '{', '1', '}', '{', '2', '}', 'B', '_', '{', '1', '}', '^', '{', '\\\\prime', '}', ',', 'B', '_', '{', '4', '}', '=', '\\\\frac', '{', '1', '}', '{', '2', '}', 'B', '_', '{', '1', '}', '^', '{', '\\\\prime', '}', '-', 'B', '_', '{', '2', '}', '^', '{', '\\\\prime', '}', ',', '\\\\end', '{array}', '\\\\right', '\\\\}', '\\\\end', '{aligned}']\n"
     ]
    },
    {
     "data": {
      "text/latex": [
       "$\\displaystyle \\begin {aligned} \\left . \\begin {array} { l l } B _ { 1 } ^ { \\prime } = B _ { 1 } - ( \\kappa + 1 ) , B _ { 2 } ^ { \\prime } = B _ { 2 } - \\frac { 1 } { 2 } ( \\kappa + 1 ) ^ { 2 } , \\\\ B _ { 1 } ^ { \\prime \\prime } = B _ { 1 } + \\frac { 1 } { 2 } B _ { 1 } ^ { \\prime } , B _ { 4 } = \\frac { 1 } { 2 } B _ { 1 } ^ { \\prime } - B _ { 2 } ^ { \\prime } , \\end {array} \\right \\} \\end {aligned}$"
      ],
      "text/plain": [
       "<IPython.core.display.Math object>"
      ]
     },
     "metadata": {},
     "output_type": "display_data"
    },
    {
     "name": "stdout",
     "output_type": "stream",
     "text": [
      " pred latex image\n",
      "['\\\\begin', '{aligned}', '\\\\left', '.', '\\\\begin', '{array}', '{', 'l', '}', 'B', '_', '{', '1', '}', '^', '{', '\\\\prime', '}', '=', 'B', '_', '{', '1', '}', '-', '(', '\\\\kappa', '+', '1', ')', ',', 'B', '_', '{', '2', '}', '^', '{', '\\\\prime', '}', '=', 'B', '_', '{', '2', '}', '-', '\\\\frac', '{', '1', '}', '{', '2', '}', '(', '\\\\kappa', '+', '1', ')', '^', '{', '2', '}', ',', '\\\\\\\\', 'B', '_', '{', '1', '}', '^', '{', '\\\\prime', '\\\\prime', '}', '=', 'B', '_', '{', '1', '}', '+', '\\\\frac', '{', '1', '}', '{', '2', '}', 'B', '_', '{', '1', '}', '^', '{', '\\\\prime', '}', ',', 'B', '_', '{', '4', '}', '=', '\\\\frac', '{', '1', '}', '{', '2', '}', 'B', '_', '{', '1', '}', '^', '{', '\\\\prime', '}', '-', 'B', '_', '{', '2', '}', '^', '{', '\\\\prime', '}', ',', '\\\\end', '{array}', '\\\\right', '\\\\}', '\\\\end', '{aligned}']\n"
     ]
    },
    {
     "data": {
      "text/latex": [
       "$\\displaystyle \\begin {aligned} \\left . \\begin {array} { l } B _ { 1 } ^ { \\prime } = B _ { 1 } - ( \\kappa + 1 ) , B _ { 2 } ^ { \\prime } = B _ { 2 } - \\frac { 1 } { 2 } ( \\kappa + 1 ) ^ { 2 } , \\\\ B _ { 1 } ^ { \\prime \\prime } = B _ { 1 } + \\frac { 1 } { 2 } B _ { 1 } ^ { \\prime } , B _ { 4 } = \\frac { 1 } { 2 } B _ { 1 } ^ { \\prime } - B _ { 2 } ^ { \\prime } , \\end {array} \\right \\} \\end {aligned}$"
      ],
      "text/plain": [
       "<IPython.core.display.Math object>"
      ]
     },
     "metadata": {},
     "output_type": "display_data"
    },
    {
     "name": "stdout",
     "output_type": "stream",
     "text": [
      "edit distance :    1\n",
      "the length of caption latex is  139\n",
      "The LaTeX sequences are not equivalent.\n"
     ]
    }
   ],
   "source": [
    "import re\n",
    "\n",
    "def extract_symbols(latex_str):\n",
    "    symbols = re.findall(r'[a-zA-Z]+|\\d+|\\\\[a-zA-Z]+', latex_str)\n",
    "    return sorted(symbols)\n",
    "\n",
    "def compare_latex_symbols(latex1, latex2):\n",
    "    symbols1 = extract_symbols(latex1)\n",
    "    symbols2 = extract_symbols(latex2)\n",
    "    return symbols1 == symbols2\n",
    "\n",
    "\n",
    "import random\n",
    "from PIL import Image\n",
    "from IPython.display import display, Math\n",
    "test_img_path = os.path.join(test_dir,\"img\")\n",
    "test_img_files = os.listdir(test_img_path)\n",
    "\n",
    "random_img_file = random.choice(test_img_files)\n",
    "random_img_path = os.path.join(test_img_path,random_img_file)\n",
    "\n",
    "print(\"  ground truth image \")\n",
    "display(Image.open(random_img_path))\n",
    "\n",
    "caption_latex = caption_dict[random_img_file.split(\".\")[0]]\n",
    "\n",
    "print(caption_latex)\n",
    "display(Math(\" \".join(caption_latex)))\n",
    "\n",
    "\n",
    "\n",
    "print(\" pred latex image\")\n",
    "pred_latex=  pred_dict[random_img_file.split(\".\")[0]]\n",
    "print(pred_latex)\n",
    "display(Math(\" \".join(pred_latex)))\n",
    "\n",
    "\n",
    "\n",
    "print(\"edit distance :   \",editdistance.eval(pred_latex,caption_latex))\n",
    "\n",
    "if editdistance.eval(pred_latex,caption_latex)!=0:\n",
    "    # print the len \n",
    "\n",
    "    \n",
    "    print(\"the length of caption latex is \",len(caption_latex))\n",
    "\n",
    "if compare_latex_symbols(\" \".join(pred_latex),\" \".join(caption_latex)):\n",
    "    print(\"The LaTeX sequences are equivalent.\")\n",
    "else:\n",
    "    print(\"The LaTeX sequences are not equivalent.\")    \n"
   ]
  },
  {
   "cell_type": "code",
   "execution_count": 11,
   "metadata": {},
   "outputs": [
    {
     "name": "stdout",
     "output_type": "stream",
     "text": [
      "LaTeX Expr 1: lp(\\phi\\xi)\\phi_x^p-1\\cdot\\psi_x^q=-q(\\psi\\xi)\\psi_x^q-1\\cdot\\phi_x^p=pq(\\phi\\psi)\\phi_x^p-1\\cdot\\psi_x^q-1\n",
      "LaTeX Expr 2: p(\\phi\\xi)\\phi_x^p-1\\cdot\\psi_x^q=-q(\\psi\\xi)\\psi_x^q-1\\cdot\\phi_x^p=pq(\\phi\\psi)\\phi_x^p-1\\cdot\\psi_x^q-1\n",
      "Error parsing LaTeX expressions: 'NoneType' object is not callable\n",
      "Parsing failed, unable to compare expressions.\n"
     ]
    }
   ],
   "source": [
    "# import sympy as sp\n",
    "# from sympy.parsing.latex import parse_latex\n",
    "\n",
    "# # 提供的LaTeX表达式列表\n",
    "# latex_expr1_list = ['\\\\begin', '{array}', '{', 'l', '}', 'p', '(', '\\\\phi', '\\\\xi', ')', '\\\\phi', '_', '{', 'x', '}', '^', '{', 'p', '-', '1', '}', '\\\\cdot', '\\\\psi', '_', '{', 'x', '^', '{', 'q', '}', '}', '\\\\\\\\', '=', '-', 'q', '(', '\\\\psi', '\\\\xi', ')', '\\\\psi', '_', '{', 'x', '}', '^', '{', 'q', '-', '1', '}', '\\\\cdot', '\\\\phi', '_', '{', 'x', '}', '^', '{', 'p', '}', '\\\\\\\\', '=', 'p', 'q', '(', '\\\\phi', '\\\\psi', ')', '\\\\phi', '_', '{', 'x', '^', '{', 'p', '-', '1', '}', '}', '\\\\cdot', '\\\\psi', '_', '{', 'x', '^', '{', 'q', '-', '1', '}', '}', '\\\\end', '{array}']\n",
    "\n",
    "# latex_expr2_list = ['\\\\begin', '{aligned}', '&', 'p', '(', '\\\\phi', '\\\\xi', ')', '\\\\phi', '_', '{', 'x', '}', '^', '{', 'p', '-', '1', '}', '\\\\cdot', '\\\\psi', '_', '{', 'x', '^', '{', 'q', '}', '}', '\\\\\\\\', '&', '=', '-', 'q', '(', '\\\\psi', '\\\\xi', ')', '\\\\psi', '_', '{', 'x', '}', '^', '{', 'q', '-', '1', '}', '\\\\cdot', '\\\\phi', '_', '{', 'x', '}', '^', '{', 'p', '}', '\\\\\\\\', '&', '=', 'p', 'q', '(', '\\\\phi', '\\\\psi', ')', '\\\\phi', '_', '{', 'x', '^', '{', 'p', '-', '1', '}', '}', '\\\\cdot', '\\\\psi', '_', '{', 'x', '^', '{', 'q', '-', '1', '}', '}', '\\\\end', '{aligned}']\n",
    "\n",
    "# # 移除LaTeX环境标记函数\n",
    "# def remove_latex_env(latex_list):\n",
    "#     ignore_tokens = {'\\\\begin', '\\\\end', '{array}', '{aligned}', '&', '{', '}', '\\\\\\\\'}\n",
    "#     return ''.join([token for token in latex_list if token not in ignore_tokens])\n",
    "\n",
    "# # 移除LaTeX环境标记\n",
    "# latex_expr1_cleaned = remove_latex_env(latex_expr1_list)\n",
    "# latex_expr2_cleaned = remove_latex_env(latex_expr2_list)\n",
    "\n",
    "# # 打印转换后的字符串\n",
    "# print(\"LaTeX Expr 1:\", latex_expr1_cleaned)\n",
    "# print(\"LaTeX Expr 2:\", latex_expr2_cleaned)\n",
    "\n",
    "# # 尝试将清理后的表达式转换为SymPy表达式\n",
    "# try:\n",
    "#     expr1 = parse_latex(latex_expr1_cleaned)\n",
    "#     expr2 = parse_latex(latex_expr2_cleaned)\n",
    "# except Exception as e:\n",
    "#     print(\"Error parsing LaTeX expressions:\", e)\n",
    "#     expr1 = None\n",
    "#     expr2 = None\n",
    "\n",
    "# # 如果解析成功，则进行比较\n",
    "# if expr1 and expr2:\n",
    "#     # 方法1: 数学简化和标准化\n",
    "#     simplified_expr1 = sp.simplify(expr1)\n",
    "#     simplified_expr2 = sp.simplify(expr2)\n",
    "#     print(\"Simplified expressions are equal:\", simplified_expr1 == simplified_expr2)\n",
    "\n",
    "#     # 方法2: 符号比较\n",
    "#     expanded_expr1 = sp.expand(expr1)\n",
    "#     expanded_expr2 = sp.expand(expr2)\n",
    "#     print(\"Expanded expressions are equal:\", expanded_expr1 == expanded_expr2)\n",
    "\n",
    "#     # 方法3: 结构化比较\n",
    "#     tree_expr1 = sp.srepr(expr1)\n",
    "#     tree_expr2 = sp.srepr(expr2)\n",
    "#     print(\"Expression trees are equal:\", tree_expr1 == tree_expr2)\n",
    "\n",
    "#     # 方法5: 符号推理和代数恒等式\n",
    "#     simplified_expr1 = sp.simplify(expr1)\n",
    "#     simplified_expr2 = sp.simplify(expr2)\n",
    "#     print(\"Symbolically simplified expressions are equal:\", simplified_expr1 == simplified_expr2)\n",
    "\n",
    "#     # 方法6: LaTeX 语法和解析工具\n",
    "#     # 使用 SymPy 解析 LaTeX 表达式并进行比较\n",
    "#     latex_expr1_sympy = sp.sympify(sp.latex(expr1))\n",
    "#     latex_expr2_sympy = sp.sympify(sp.latex(expr2))\n",
    "#     print(\"Parsed LaTeX expressions are equal:\", latex_expr1_sympy == latex_expr2_sympy)\n",
    "# else:\n",
    "#     print(\"Parsing failed, unable to compare expressions.\")"
   ]
  },
  {
   "cell_type": "code",
   "execution_count": 138,
   "metadata": {},
   "outputs": [
    {
     "name": "stdout",
     "output_type": "stream",
     "text": [
      "Ground truth image:\n"
     ]
    },
    {
     "data": {
      "image/png": "[encoded data removed]",
      "text/plain": [
       "<PIL.BmpImagePlugin.BmpImageFile image mode=L size=619x128 at 0x7F437EE33A90>"
      ]
     },
     "metadata": {},
     "output_type": "display_data"
    },
    {
     "name": "stdout",
     "output_type": "stream",
     "text": [
      "Caption LaTeX:\n"
     ]
    },
    {
     "data": {
      "text/latex": [
       "$\\displaystyle \\begin {aligned} \\sigma ( \\mathscr { E } ) = \\left \\{ \\begin {array} { l l } \\sigma \\left ( \\mathscr { E } _ { c } \\right ) \\left [ 1 + A \\left \\{ \\left ( \\mathscr { E } _ { c } - \\mathscr { E } \\right ) / \\mathscr { E } _ { c } \\right \\} ^ { \\frac { 1 } { 2 } } \\right ] & \\left ( \\mathscr { E } < \\mathscr { E } _ { c } \\right ) \\\\ \\sigma \\left ( \\mathscr { E } _ { c } \\right ) & \\left ( \\mathscr { E } > \\mathscr { E } _ { c } \\right ) , \\end {array} \\right \\} \\end {aligned}$"
      ],
      "text/plain": [
       "<IPython.core.display.Math object>"
      ]
     },
     "metadata": {},
     "output_type": "display_data"
    },
    {
     "name": "stdout",
     "output_type": "stream",
     "text": [
      "Predicted LaTeX:\n"
     ]
    },
    {
     "data": {
      "text/latex": [
       "$\\displaystyle \\begin {aligned} \\sigma ( E ) = \\left \\{ \\begin {array} { c c } \\sigma \\left ( E _ { c } \\right ) \\left [ 1 + A \\left \\{ \\left ( E _ { c } - E \\right ) / E _ { c } \\right \\} ^ { \\frac { 1 } { 2 } } \\right ] & \\left ( E < E _ { c } \\right ) \\\\ \\sigma \\left ( E _ { c } \\right ) & \\left ( E > E _ { c } \\right ) , \\end {array} \\right \\} \\end {aligned}$"
      ],
      "text/plain": [
       "<IPython.core.display.Math object>"
      ]
     },
     "metadata": {},
     "output_type": "display_data"
    },
    {
     "name": "stdout",
     "output_type": "stream",
     "text": [
      "Edit distance: 32\n",
      "Length of caption LaTeX: 135\n",
      "Length of predicted LaTeX: 105\n",
      "Edit Path:\n",
      "Delete: \\mathscr\n",
      "Delete: {\n",
      "Delete: }\n",
      "Replace: l -> c\n",
      "Replace: l -> c\n",
      "Delete: \\mathscr\n",
      "Delete: {\n",
      "Delete: }\n",
      "Delete: \\mathscr\n",
      "Delete: {\n",
      "Delete: }\n",
      "Delete: \\mathscr\n",
      "Delete: {\n",
      "Delete: }\n",
      "Delete: \\mathscr\n",
      "Delete: {\n",
      "Delete: }\n",
      "Delete: \\mathscr\n",
      "Delete: {\n",
      "Delete: }\n",
      "Delete: \\mathscr\n",
      "Delete: {\n",
      "Delete: }\n",
      "Delete: \\mathscr\n",
      "Delete: {\n",
      "Delete: }\n",
      "Delete: \\mathscr\n",
      "Delete: {\n",
      "Delete: }\n",
      "Delete: \\mathscr\n",
      "Delete: {\n",
      "Delete: }\n",
      "The LaTeX sequences are not equivalent.\n"
     ]
    }
   ],
   "source": [
    "import os\n",
    "import re\n",
    "import random\n",
    "from PIL import Image\n",
    "from IPython.display import display, Math\n",
    "import difflib\n",
    "import editdistance\n",
    "\n",
    "# 提取符号的函数\n",
    "def extract_symbols(latex_str):\n",
    "    symbols = re.findall(r'[a-zA-Z]+|\\d+|\\\\[a-zA-Z]+|[^a-zA-Z\\d\\s\\\\]', latex_str)\n",
    "    return symbols\n",
    "\n",
    "# 生成编辑路径并显示具体的编辑操作\n",
    "def generate_edit_path(latex1, latex2):\n",
    "    symbols1 = extract_symbols(latex1)\n",
    "    symbols2 = extract_symbols(latex2)\n",
    "    \n",
    "    matcher = difflib.SequenceMatcher(None, symbols1, symbols2)\n",
    "    edit_path = []\n",
    "    \n",
    "    for tag, i1, i2, j1, j2 in matcher.get_opcodes():\n",
    "        if tag == 'equal':\n",
    "            for i in range(i1, i2):\n",
    "                edit_path.append(('match', symbols1[i], symbols2[j1 + (i - i1)]))\n",
    "        elif tag == 'replace':\n",
    "            for i in range(i1, i2):\n",
    "                edit_path.append(('replace', symbols1[i], symbols2[j1 + (i - i1)]))\n",
    "        elif tag == 'delete':\n",
    "            for i in range(i1, i2):\n",
    "                edit_path.append(('delete', symbols1[i], ''))\n",
    "        elif tag == 'insert':\n",
    "            for j in range(j1, j2):\n",
    "                edit_path.append(('insert', '', symbols2[j]))\n",
    "    \n",
    "    return edit_path\n",
    "\n",
    "# 打印编辑路径\n",
    "def print_edit_path(edit_path):\n",
    "    for action, sym1, sym2 in edit_path:\n",
    "        # if action == 'match':\n",
    "        #     print(f\"Match: {sym1} == {sym2}\")\n",
    "        if action == 'replace':\n",
    "            print(f\"Replace: {sym1} -> {sym2}\")\n",
    "        elif action == 'delete':\n",
    "            print(f\"Delete: {sym1}\")\n",
    "        elif action == 'insert':\n",
    "            print(f\"Insert: {sym2}\")\n",
    "\n",
    "# 比较符号是否等价\n",
    "def compare_latex_symbols(latex1, latex2):\n",
    "    symbols1 = extract_symbols(latex1)\n",
    "    symbols2 = extract_symbols(latex2)\n",
    "    return sorted(symbols1) == sorted(symbols2)\n",
    "\n",
    "# 测试数据\n",
    "# test_dir = \"path/to/your/test_directory\"  # 修改为你的测试目录路径\n",
    "# caption_dict = {\"example_key\": [\"\\\\phi\", \"=\", \"a\", \"+\", \"b\"]}  # 修改为你的caption字典\n",
    "# pred_dict = {\"example_key\": [\"\\\\phi\", \"=\", \"a\", \"-\", \"b\"]}  # 修改为你的预测字典\n",
    "\n",
    "# 随机选择一个测试图像\n",
    "test_img_path = os.path.join(test_dir, \"img\")\n",
    "test_img_files = os.listdir(test_img_path)\n",
    "random_img_file = random.choice(test_img_files)\n",
    "random_img_path = os.path.join(test_img_path, random_img_file)\n",
    "\n",
    "print(\"Ground truth image:\")\n",
    "display(Image.open(random_img_path))\n",
    "\n",
    "caption_latex = caption_dict[random_img_file.split(\".\")[0]]\n",
    "print(\"Caption LaTeX:\")\n",
    "display(Math(\" \".join(caption_latex)))\n",
    "\n",
    "pred_latex = pred_dict[random_img_file.split(\".\")[0]]\n",
    "print(\"Predicted LaTeX:\")\n",
    "display(Math(\" \".join(pred_latex)))\n",
    "\n",
    "# 计算编辑距离\n",
    "edit_dist = editdistance.eval(pred_latex, caption_latex)\n",
    "print(\"Edit distance:\", edit_dist)\n",
    "\n",
    "# 生成并显示编辑路径\n",
    "if edit_dist != 0:\n",
    "    edit_path = generate_edit_path(\" \".join(caption_latex), \" \".join(pred_latex))\n",
    "    \n",
    "    print(\"Length of caption LaTeX:\", len(caption_latex))\n",
    "    print(\"Length of predicted LaTeX:\", len(pred_latex))\n",
    "    \n",
    "    print(\"Edit Path:\")\n",
    "    print_edit_path(edit_path)\n",
    "\n",
    "# 比较符号是否等价\n",
    "if compare_latex_symbols(\" \".join(pred_latex), \" \".join(caption_latex)):\n",
    "    print(\"The LaTeX sequences are equivalent.\")\n",
    "else:\n",
    "    print(\"The LaTeX sequences are not equivalent.\")"
   ]
  },
  {
   "cell_type": "code",
   "execution_count": null,
   "metadata": {},
   "outputs": [],
   "source": []
  }
 ],
 "metadata": {
  "kernelspec": {
   "display_name": "CoMER",
   "language": "python",
   "name": "python3"
  },
  "language_info": {
   "codemirror_mode": {
    "name": "ipython",
    "version": 3
   },
   "file_extension": ".py",
   "mimetype": "text/x-python",
   "name": "python",
   "nbconvert_exporter": "python",
   "pygments_lexer": "ipython3",
   "version": "3.7.12"
  }
 },
 "nbformat": 4,
 "nbformat_minor": 2
}
