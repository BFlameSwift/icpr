{
 "cells": [
  {
   "cell_type": "code",
   "execution_count": 6,
   "metadata": {},
   "outputs": [],
   "source": [
    "import sys\n",
    "import os\n",
    "\n",
    "# 获取当前工作目录\n",
    "current_dir = os.getcwd()\n",
    "\n",
    "# 添加项目根目录到 sys.path\n",
    "project_dir = os.path.abspath(os.path.join(current_dir, './'))\n",
    "# print(project_dir)\n",
    "sys.path.append(project_dir)\n"
   ]
  },
  {
   "cell_type": "code",
   "execution_count": 7,
   "metadata": {
    "notebookRunGroups": {
     "groupValue": "2"
    }
   },
   "outputs": [],
   "source": [
    "import re\n",
    "from typing import List\n",
    "import numpy as np\n",
    "import editdistance\n",
    "from collections import defaultdict\n",
    "\n",
    "\n",
    "# from pylatexenc.latexwalker import LatexWalker, \n",
    "\n",
    "from pylatexenc.latexwalker import LatexWalker\n",
    "from sklearn.metrics import precision_score, recall_score, f1_score\n"
   ]
  },
  {
   "cell_type": "code",
   "execution_count": 8,
   "metadata": {},
   "outputs": [],
   "source": [
    "def load_lns(fpath: str) -> List[str]:\n",
    "    lns = []\n",
    "    with open(fpath, \"r\") as f:\n",
    "        for ln in f.readlines():\n",
    "            lns.append(ln.strip())\n",
    "    return lns"
   ]
  },
  {
   "cell_type": "markdown",
   "metadata": {},
   "source": [
    "read test caption answer"
   ]
  },
  {
   "cell_type": "code",
   "execution_count": 9,
   "metadata": {},
   "outputs": [
    {
     "name": "stdout",
     "output_type": "stream",
     "text": [
      "../data/test/caption.txt\n",
      " max caption size  823\n",
      "7\n",
      "3000 ['0054734', '0037174', '0031510', '0083407', '0037881']\n",
      "['\\\\begin', '{aligned}', '\\\\boldsymbol', '{', 'K', '}', '=', '\\\\left', '(', '\\\\begin', '{array}', '{', 'c', 'c', 'c', '}', '0', '&', '0', '&', '\\\\frac', '{', '\\\\beta', '_', '{', '\\\\mathrm', '{', 'p', '}', '}', '}', '{', '\\\\gamma', '_', '{', '\\\\mathrm', '{', 'm', '}', '}', '}', '\\\\\\\\', '0', '&', '0', '&', '\\\\frac', '{', '\\\\beta', '_', '{', '\\\\mathrm', '{', 'm', '}', '}', '}', '{', '\\\\gamma', '_', '{', '\\\\mathrm', '{', 'm', '}', '}', '}', '\\\\\\\\', '\\\\mathcal', '{', 'P', '}', '\\\\frac', '{', '\\\\beta', '_', '{', '\\\\mathrm', '{', 'f', '}', '}', '}', '{', '\\\\gamma', '_', '{', '\\\\mathrm', '{', 'p', '}', '}', '}', '&', '\\\\frac', '{', '\\\\beta', '_', '{', '\\\\mathrm', '{', 'f', '}', '}', '}', '{', '\\\\gamma', '_', '{', '\\\\mathrm', '{', 'f', '}', '}', '}', '&', '0', '\\\\end', '{array}', '\\\\right', ')', '\\\\end', '{aligned}']\n"
     ]
    }
   ],
   "source": [
    "test_dir = \"../data/test\"\n",
    "test_caption_dir = os.path.join(test_dir,'caption.txt')\n",
    "print(test_caption_dir)\n",
    "caption_dict = {}\n",
    "\n",
    "captions = load_lns(test_caption_dir)\n",
    "max_caption_size = 0\n",
    "count = 0\n",
    "for cap in captions:\n",
    "    img_name = cap.split()[0]\n",
    "    caption_dict[img_name] = cap.split()[1:]\n",
    "    if len(caption_dict[img_name]) > max_caption_size:\n",
    "        max_caption_size = len(caption_dict[img_name])\n",
    "    if len(caption_dict[img_name]) >= 600:\n",
    "        count += 1\n",
    "print(\" max caption size \",max_caption_size)\n",
    "print(count)\n",
    "print(len(caption_dict.keys()),list(caption_dict.keys())[:5])      \n",
    "print(caption_dict[list(caption_dict.keys())[0]])     "
   ]
  },
  {
   "cell_type": "code",
   "execution_count": 10,
   "metadata": {},
   "outputs": [],
   "source": [
    "version = 78\n",
    "ckp_folder = os.path.join(\"lightning_logs\", f\"version_{version}\", \"checkpoints\")"
   ]
  },
  {
   "cell_type": "code",
   "execution_count": 11,
   "metadata": {},
   "outputs": [
    {
     "name": "stdout",
     "output_type": "stream",
     "text": [
      "2993 ['0004028', '0109606', '0035325', '0097565', '0011280']\n",
      "['\\\\begin', '{aligned}', 'm', '_', '{', 'l', '}', '=', '\\\\left', '(', '\\\\begin', '{array}', '{', 'c', 'c', 'c', '}', '0', '.', '0', '0', '2', '5', '6', '&', '-', '0', '.', '0', '1', '0', '5', '8', '&', '0', '\\\\\\\\', '-', '0', '.', '0', '1', '0', '5', '8', '&', '0', '.', '0', '4', '5', '9', '6', '&', '0', '\\\\\\\\', '0', '&', '0', '&', '1', '\\\\end', '{array}', '\\\\right', ')', 'm', '_', '{', '\\\\tau', '}', '\\\\end', '{aligned}']\n"
     ]
    }
   ],
   "source": [
    "pred_dir = '../result'\n",
    "pred_files = os.listdir(pred_dir)\n",
    "pred_dict = {}\n",
    "\n",
    "for pred_file in pred_files:\n",
    "    with open(os.path.join(pred_dir, pred_file), 'r',encoding='utf-8') as f:\n",
    "            latex = f.readlines()[1].strip()\n",
    "            if latex[0] == '$' and latex[-1] == '$':\n",
    "                # replace start and end '$'\n",
    "                latex = latex[1:-1]\n",
    "            pred_dict[pred_file.split(\".\")[0]] = latex.split()\n",
    "        \n",
    "print(len(pred_dict.keys()),list(pred_dict.keys())[:5])\n",
    "\n",
    "print(pred_dict[list(pred_dict.keys())[0]])"
   ]
  },
  {
   "cell_type": "code",
   "execution_count": 12,
   "metadata": {},
   "outputs": [],
   "source": [
    "\n",
    "def calculate_edit_distance(seq1, seq2):\n",
    "    \"\"\"计算两个Latex序列之间的编辑距离\"\"\"\n",
    "    return editdistance.eval(seq1, seq2)\n",
    "\n",
    "\n",
    "def calculate_accuracy(pred_dict, true_dict):\n",
    "    \"\"\"计算预测结果与真实结果之间的准确率\"\"\"\n",
    "    correct_count = 0\n",
    "    total_count = 0\n",
    "    for key in pred_dict:\n",
    "        if key in true_dict:\n",
    "            pred_seq = pred_dict[key]\n",
    "            true_seq = true_dict[key]\n",
    "            if pred_seq == true_seq:\n",
    "                correct_count += 1\n",
    "            total_count += 1\n",
    "    return correct_count / total_count if total_count > 0 else 0\n",
    "\n",
    "\n",
    "def calculate_precision_recall_f1(pred_dict, true_dict):\n",
    "    \"\"\"计算精确度、召回率和F1分数\"\"\"\n",
    "    all_precisions = []\n",
    "    all_recalls = []\n",
    "    all_f1s = []\n",
    "\n",
    "    for key in pred_dict:\n",
    "        if key in true_dict:\n",
    "            pred_seq = pred_dict[key]\n",
    "            true_seq = true_dict[key]\n",
    "            # 转换为二进制分类\n",
    "            true_labels = [1] * len(true_seq)\n",
    "            pred_labels = [1 if i < len(pred_seq) and pred_seq[i] == true_seq[i] else 0 for i in range(len(true_seq))]\n",
    "            if len(pred_labels) < len(true_labels):\n",
    "                pred_labels.extend([0] * (len(true_labels) - len(pred_labels)))\n",
    "            all_precisions.append(precision_score(true_labels, pred_labels))\n",
    "            all_recalls.append(recall_score(true_labels, pred_labels))\n",
    "            all_f1s.append(f1_score(true_labels, pred_labels))\n",
    "\n",
    "    avg_precision = sum(all_precisions) / len(all_precisions) if all_precisions else 0\n",
    "    avg_recall = sum(all_recalls) / len(all_recalls) if all_recalls else 0\n",
    "    avg_f1 = sum(all_f1s) / len(all_f1s) if all_f1s else 0\n",
    "\n",
    "    return avg_precision, avg_recall, avg_f1\n",
    "\n",
    "def is_valid_latex(seq):\n",
    "    \"\"\"检查LaTeX序列是否合法\"\"\"\n",
    "    latex_str = ''.join(seq)\n",
    "    try:\n",
    "        walker = LatexWalker(latex_str)\n",
    "        nodes, pos, len_ = walker.get_latex_nodes()\n",
    "        return True\n",
    "    except ...:\n",
    "        return False\n",
    "\n",
    "def evaluate_by_length_intervals(pred_dict, true_dict, intervals):\n",
    "    \"\"\"按长度区间计算准确率、编辑距离和合法性\"\"\"\n",
    "    interval_results = defaultdict(lambda: {\n",
    "        'correct_count': 0, \n",
    "        'total_count': 0, \n",
    "        'total_edit_distance': 0,\n",
    "        'invalid_count': 0\n",
    "    })\n",
    "\n",
    "    for key in pred_dict:\n",
    "        if key in true_dict:\n",
    "            pred_seq = pred_dict[key]\n",
    "            true_seq = true_dict[key]\n",
    "            length = len(true_seq)\n",
    "            for start, end in intervals:\n",
    "                if start <= length < end:\n",
    "                    interval_results[(start, end)]['total_count'] += 1\n",
    "                    interval_results[(start, end)]['total_edit_distance'] += calculate_edit_distance(pred_seq, true_seq)\n",
    "                    if pred_seq == true_seq:\n",
    "                        interval_results[(start, end)]['correct_count'] += 1\n",
    "                    if not is_valid_latex(pred_seq):\n",
    "                        interval_results[(start, end)]['invalid_count'] += 1\n",
    "                    break\n",
    "\n",
    "    results = {}\n",
    "    for interval, data in interval_results.items():\n",
    "        correct_count = data['correct_count']\n",
    "        total_count = data['total_count']\n",
    "        total_edit_distance = data['total_edit_distance']\n",
    "        invalid_count = data['invalid_count']\n",
    "        accuracy = correct_count / total_count if total_count > 0 else 0\n",
    "        average_edit_distance = total_edit_distance / total_count if total_count > 0 else 0\n",
    "        results[interval] = {\n",
    "            'accuracy': accuracy,\n",
    "            'average_edit_distance': average_edit_distance,\n",
    "            'total_count': total_count,\n",
    "            'invalid_count': invalid_count\n",
    "        }\n",
    "\n",
    "    return results\n"
   ]
  },
  {
   "cell_type": "code",
   "execution_count": 13,
   "metadata": {},
   "outputs": [],
   "source": [
    "# 定义长度区间\n",
    "intervals = [(0, 100), (100, 200), (200, 300), (300,400),(400,600),(600,700),(700,800),(800,900),(900,1000)]\n",
    "true_dict = caption_dict\n"
   ]
  },
  {
   "cell_type": "code",
   "execution_count": 14,
   "metadata": {},
   "outputs": [
    {
     "name": "stdout",
     "output_type": "stream",
     "text": [
      "Overall Accuracy: 0.6114266622118276\n",
      "Average Precision: 1.0\n",
      "Average Recall: 0.7959619334152225\n",
      "Average F1 Score: 0.8282397636118085\n",
      "Interval Results: {(0, 100): {'accuracy': 0.7301762114537445, 'average_edit_distance': 1.1872246696035242, 'total_count': 908, 'invalid_count': 0}, (100, 200): {'accuracy': 0.6303886925795052, 'average_edit_distance': 2.3964664310954062, 'total_count': 1415, 'invalid_count': 0}, (200, 300): {'accuracy': 0.4789272030651341, 'average_edit_distance': 7.754789272030651, 'total_count': 522, 'invalid_count': 0}, (400, 600): {'accuracy': 0.0, 'average_edit_distance': 130.22222222222223, 'total_count': 36, 'invalid_count': 0}, (300, 400): {'accuracy': 0.22321428571428573, 'average_edit_distance': 21.008928571428573, 'total_count': 112, 'invalid_count': 0}}\n",
      "Interval (0, 100): Accuracy = 0.7301762114537445, Average Edit Distance = 1.1872246696035242, Total Count = 908, Invalid Count = 0\n",
      "Interval (100, 200): Accuracy = 0.6303886925795052, Average Edit Distance = 2.3964664310954062, Total Count = 1415, Invalid Count = 0\n",
      "Interval (200, 300): Accuracy = 0.4789272030651341, Average Edit Distance = 7.754789272030651, Total Count = 522, Invalid Count = 0\n",
      "Interval (400, 600): Accuracy = 0.0, Average Edit Distance = 130.22222222222223, Total Count = 36, Invalid Count = 0\n",
      "Interval (300, 400): Accuracy = 0.22321428571428573, Average Edit Distance = 21.008928571428573, Total Count = 112, Invalid Count = 0\n"
     ]
    }
   ],
   "source": [
    "\n",
    "# 计算整体准确率\n",
    "overall_accuracy = calculate_accuracy(pred_dict, caption_dict)\n",
    "print(f'Overall Accuracy: {overall_accuracy}')\n",
    "\n",
    "# 计算精确度、召回率和F1分数\n",
    "avg_precision, avg_recall, avg_f1 = calculate_precision_recall_f1(pred_dict, true_dict)\n",
    "print(f'Average Precision: {avg_precision}')\n",
    "print(f'Average Recall: {avg_recall}')\n",
    "print(f'Average F1 Score: {avg_f1}')\n",
    "\n",
    "# 计算各长度区间的指标\n",
    "interval_results = evaluate_by_length_intervals(pred_dict, true_dict, intervals)\n",
    "\n",
    "# 调试输出\n",
    "print(f'Interval Results: {interval_results}')\n",
    "\n",
    "for interval, metrics in interval_results.items():\n",
    "    print(f'Interval {interval}: Accuracy = {metrics[\"accuracy\"]}, Average Edit Distance = {metrics[\"average_edit_distance\"]}, Total Count = {metrics[\"total_count\"]}, Invalid Count = {metrics[\"invalid_count\"]}')"
   ]
  },
  {
   "cell_type": "markdown",
   "metadata": {},
   "source": [
    "分析模型分析错误的原因，图片分辨率，过长？ 还是。\n",
    "\n",
    "标准化。\n",
    "测其他的指标"
   ]
  },
  {
   "cell_type": "markdown",
   "metadata": {},
   "source": []
  },
  {
   "cell_type": "code",
   "execution_count": 15,
   "metadata": {},
   "outputs": [
    {
     "name": "stdout",
     "output_type": "stream",
     "text": [
      "  ground truth image \n"
     ]
    },
    {
     "data": {
      "image/png": "[encoded data removed]",
      "text/plain": [
       "<PIL.BmpImagePlugin.BmpImageFile image mode=L size=654x128 at 0x7F9B65F805D0>"
      ]
     },
     "metadata": {},
     "output_type": "display_data"
    },
    {
     "name": "stdout",
     "output_type": "stream",
     "text": [
      "['\\\\begin', '{array}', '{', 'l', '}', 'P', '=', 'D', 'K', '\\\\sum', '_', '{', 'i', '\\\\in', '\\\\Lambda', '_', '{', 'p', '}', '}', 'z', '_', '{', 'i', 'j', '}', '(', '0', ')', 'I', '_', '{', 'i', '}', '\\\\\\\\', 'Q', '=', '\\\\frac', '{', '7', '}', '{', '4', '}', '\\\\alpha', 'D', 'E', '\\\\sum', '_', '{', 'i', '\\\\in', '\\\\Lambda', '_', '{', 'p', '}', '}', 'z', '_', '{', 'i', 'j', '}', '(', '0', ')', 'f', '_', '{', 'p', '}', '\\\\left', '(', 'I', '_', '{', 'i', '}', '\\\\right', ')', '\\\\end', '{array}']\n"
     ]
    },
    {
     "data": {
      "text/latex": [
       "$\\displaystyle \\begin {array} { l } P = D K \\sum _ { i \\in \\Lambda _ { p } } z _ { i j } ( 0 ) I _ { i } \\\\ Q = \\frac { 7 } { 4 } \\alpha D E \\sum _ { i \\in \\Lambda _ { p } } z _ { i j } ( 0 ) f _ { p } \\left ( I _ { i } \\right ) \\end {array}$"
      ],
      "text/plain": [
       "<IPython.core.display.Math object>"
      ]
     },
     "metadata": {},
     "output_type": "display_data"
    },
    {
     "name": "stdout",
     "output_type": "stream",
     "text": [
      " pred latex image\n",
      "['\\\\begin', '{array}', '{', 'l', '}', 'P', '=', 'D', 'K', '\\\\sum', '_', '{', 'i', '\\\\in', '\\\\Lambda', '_', '{', 'p', '}', '}', 'z', '_', '{', 'i', 'j', '}', '(', '0', ')', 'I', '_', '{', 'i', '}', '\\\\\\\\', 'Q', '=', '\\\\frac', '{', '7', '}', '{', '4', '}', '\\\\alpha', 'D', 'E', '\\\\sum', '_', '{', 'i', '\\\\in', '\\\\Lambda', '_', '{', 'p', '}', '}', 'z', '_', '{', 'i', 'j', '}', '(', '0', ')', 'f', '_', '{', 'p', '}', '\\\\left', '(', 'I', '_', '{', 'i', '}', '\\\\right', ')', '\\\\end', '{array}']\n"
     ]
    },
    {
     "data": {
      "text/latex": [
       "$\\displaystyle \\begin {array} { l } P = D K \\sum _ { i \\in \\Lambda _ { p } } z _ { i j } ( 0 ) I _ { i } \\\\ Q = \\frac { 7 } { 4 } \\alpha D E \\sum _ { i \\in \\Lambda _ { p } } z _ { i j } ( 0 ) f _ { p } \\left ( I _ { i } \\right ) \\end {array}$"
      ],
      "text/plain": [
       "<IPython.core.display.Math object>"
      ]
     },
     "metadata": {},
     "output_type": "display_data"
    },
    {
     "name": "stdout",
     "output_type": "stream",
     "text": [
      "edit distance :    0\n",
      "The LaTeX sequences are equivalent.\n"
     ]
    }
   ],
   "source": [
    "import re\n",
    "\n",
    "def extract_symbols(latex_str):\n",
    "    symbols = re.findall(r'[a-zA-Z]+|\\d+|\\\\[a-zA-Z]+', latex_str)\n",
    "    return sorted(symbols)\n",
    "\n",
    "def compare_latex_symbols(latex1, latex2):\n",
    "    symbols1 = extract_symbols(latex1)\n",
    "    symbols2 = extract_symbols(latex2)\n",
    "    return symbols1 == symbols2\n",
    "\n",
    "\n",
    "import random\n",
    "from PIL import Image\n",
    "from IPython.display import display, Math\n",
    "test_img_path = os.path.join(test_dir,\"img\")\n",
    "test_img_files = os.listdir(test_img_path)\n",
    "\n",
    "random_img_file = random.choice(test_img_files)\n",
    "random_img_path = os.path.join(test_img_path,random_img_file)\n",
    "\n",
    "print(\"  ground truth image \")\n",
    "display(Image.open(random_img_path))\n",
    "\n",
    "caption_latex = caption_dict[random_img_file.split(\".\")[0]]\n",
    "\n",
    "print(caption_latex)\n",
    "display(Math(\" \".join(caption_latex)))\n",
    "\n",
    "\n",
    "\n",
    "print(\" pred latex image\")\n",
    "pred_latex=  pred_dict[random_img_file.split(\".\")[0]]\n",
    "print(pred_latex)\n",
    "display(Math(\" \".join(pred_latex)))\n",
    "\n",
    "\n",
    "\n",
    "print(\"edit distance :   \",editdistance.eval(pred_latex,caption_latex))\n",
    "\n",
    "if editdistance.eval(pred_latex,caption_latex)!=0:\n",
    "    # print the len \n",
    "\n",
    "    \n",
    "    print(\"the length of caption latex is \",len(caption_latex))\n",
    "\n",
    "if compare_latex_symbols(\" \".join(pred_latex),\" \".join(caption_latex)):\n",
    "    print(\"The LaTeX sequences are equivalent.\")\n",
    "else:\n",
    "    print(\"The LaTeX sequences are not equivalent.\")    \n"
   ]
  },
  {
   "cell_type": "code",
   "execution_count": 16,
   "metadata": {},
   "outputs": [],
   "source": [
    "# import sympy as sp\n",
    "# from sympy.parsing.latex import parse_latex\n",
    "\n",
    "# # 提供的LaTeX表达式列表\n",
    "# latex_expr1_list = ['\\\\begin', '{array}', '{', 'l', '}', 'p', '(', '\\\\phi', '\\\\xi', ')', '\\\\phi', '_', '{', 'x', '}', '^', '{', 'p', '-', '1', '}', '\\\\cdot', '\\\\psi', '_', '{', 'x', '^', '{', 'q', '}', '}', '\\\\\\\\', '=', '-', 'q', '(', '\\\\psi', '\\\\xi', ')', '\\\\psi', '_', '{', 'x', '}', '^', '{', 'q', '-', '1', '}', '\\\\cdot', '\\\\phi', '_', '{', 'x', '}', '^', '{', 'p', '}', '\\\\\\\\', '=', 'p', 'q', '(', '\\\\phi', '\\\\psi', ')', '\\\\phi', '_', '{', 'x', '^', '{', 'p', '-', '1', '}', '}', '\\\\cdot', '\\\\psi', '_', '{', 'x', '^', '{', 'q', '-', '1', '}', '}', '\\\\end', '{array}']\n",
    "\n",
    "# latex_expr2_list = ['\\\\begin', '{aligned}', '&', 'p', '(', '\\\\phi', '\\\\xi', ')', '\\\\phi', '_', '{', 'x', '}', '^', '{', 'p', '-', '1', '}', '\\\\cdot', '\\\\psi', '_', '{', 'x', '^', '{', 'q', '}', '}', '\\\\\\\\', '&', '=', '-', 'q', '(', '\\\\psi', '\\\\xi', ')', '\\\\psi', '_', '{', 'x', '}', '^', '{', 'q', '-', '1', '}', '\\\\cdot', '\\\\phi', '_', '{', 'x', '}', '^', '{', 'p', '}', '\\\\\\\\', '&', '=', 'p', 'q', '(', '\\\\phi', '\\\\psi', ')', '\\\\phi', '_', '{', 'x', '^', '{', 'p', '-', '1', '}', '}', '\\\\cdot', '\\\\psi', '_', '{', 'x', '^', '{', 'q', '-', '1', '}', '}', '\\\\end', '{aligned}']\n",
    "\n",
    "# # 移除LaTeX环境标记函数\n",
    "# def remove_latex_env(latex_list):\n",
    "#     ignore_tokens = {'\\\\begin', '\\\\end', '{array}', '{aligned}', '&', '{', '}', '\\\\\\\\'}\n",
    "#     return ''.join([token for token in latex_list if token not in ignore_tokens])\n",
    "\n",
    "# # 移除LaTeX环境标记\n",
    "# latex_expr1_cleaned = remove_latex_env(latex_expr1_list)\n",
    "# latex_expr2_cleaned = remove_latex_env(latex_expr2_list)\n",
    "\n",
    "# # 打印转换后的字符串\n",
    "# print(\"LaTeX Expr 1:\", latex_expr1_cleaned)\n",
    "# print(\"LaTeX Expr 2:\", latex_expr2_cleaned)\n",
    "\n",
    "# # 尝试将清理后的表达式转换为SymPy表达式\n",
    "# try:\n",
    "#     expr1 = parse_latex(latex_expr1_cleaned)\n",
    "#     expr2 = parse_latex(latex_expr2_cleaned)\n",
    "# except Exception as e:\n",
    "#     print(\"Error parsing LaTeX expressions:\", e)\n",
    "#     expr1 = None\n",
    "#     expr2 = None\n",
    "\n",
    "# # 如果解析成功，则进行比较\n",
    "# if expr1 and expr2:\n",
    "#     # 方法1: 数学简化和标准化\n",
    "#     simplified_expr1 = sp.simplify(expr1)\n",
    "#     simplified_expr2 = sp.simplify(expr2)\n",
    "#     print(\"Simplified expressions are equal:\", simplified_expr1 == simplified_expr2)\n",
    "\n",
    "#     # 方法2: 符号比较\n",
    "#     expanded_expr1 = sp.expand(expr1)\n",
    "#     expanded_expr2 = sp.expand(expr2)\n",
    "#     print(\"Expanded expressions are equal:\", expanded_expr1 == expanded_expr2)\n",
    "\n",
    "#     # 方法3: 结构化比较\n",
    "#     tree_expr1 = sp.srepr(expr1)\n",
    "#     tree_expr2 = sp.srepr(expr2)\n",
    "#     print(\"Expression trees are equal:\", tree_expr1 == tree_expr2)\n",
    "\n",
    "#     # 方法5: 符号推理和代数恒等式\n",
    "#     simplified_expr1 = sp.simplify(expr1)\n",
    "#     simplified_expr2 = sp.simplify(expr2)\n",
    "#     print(\"Symbolically simplified expressions are equal:\", simplified_expr1 == simplified_expr2)\n",
    "\n",
    "#     # 方法6: LaTeX 语法和解析工具\n",
    "#     # 使用 SymPy 解析 LaTeX 表达式并进行比较\n",
    "#     latex_expr1_sympy = sp.sympify(sp.latex(expr1))\n",
    "#     latex_expr2_sympy = sp.sympify(sp.latex(expr2))\n",
    "#     print(\"Parsed LaTeX expressions are equal:\", latex_expr1_sympy == latex_expr2_sympy)\n",
    "# else:\n",
    "#     print(\"Parsing failed, unable to compare expressions.\")"
   ]
  },
  {
   "cell_type": "code",
   "execution_count": null,
   "metadata": {},
   "outputs": [],
   "source": []
  },
  {
   "cell_type": "code",
   "execution_count": 17,
   "metadata": {},
   "outputs": [],
   "source": [
    "import os\n",
    "import re\n",
    "import random\n",
    "from PIL import Image\n",
    "from IPython.display import display, Math\n",
    "import difflib\n",
    "import editdistance\n",
    "\n",
    "# 提取符号的函数\n",
    "def extract_symbols(latex_str):\n",
    "    symbols = re.findall(r'[a-zA-Z]+|\\d+|\\\\[a-zA-Z]+|[^a-zA-Z\\d\\s\\\\]', latex_str)\n",
    "    return symbols\n",
    "\n",
    "# 生成编辑路径并显示具体的编辑操作\n",
    "def generate_edit_path(latex1, latex2):\n",
    "    symbols1 = extract_symbols(latex1)\n",
    "    symbols2 = extract_symbols(latex2)\n",
    "    \n",
    "    matcher = difflib.SequenceMatcher(None, symbols1, symbols2)\n",
    "    edit_path = []\n",
    "    \n",
    "    for tag, i1, i2, j1, j2 in matcher.get_opcodes():\n",
    "        if tag == 'equal':\n",
    "            for i in range(i1, i2):\n",
    "                edit_path.append(('match', symbols1[i], symbols2[j1 + (i - i1)]))\n",
    "        elif tag == 'replace':\n",
    "            for i in range(i1, i2):\n",
    "                edit_path.append(('replace', symbols1[i], symbols2[j1 + (i - i1)]))\n",
    "        elif tag == 'delete':\n",
    "            for i in range(i1, i2):\n",
    "                edit_path.append(('delete', symbols1[i], ''))\n",
    "        elif tag == 'insert':\n",
    "            for j in range(j1, j2):\n",
    "                edit_path.append(('insert', '', symbols2[j]))\n",
    "    \n",
    "    return edit_path\n",
    "\n",
    "# 打印编辑路径\n",
    "def print_edit_path(edit_path):\n",
    "    for action, sym1, sym2 in edit_path:\n",
    "        # if action == 'match':\n",
    "        #     print(f\"Match: {sym1} == {sym2}\")\n",
    "        if action == 'replace':\n",
    "            print(f\"Replace: {sym1} -> {sym2}\")\n",
    "        elif action == 'delete':\n",
    "            print(f\"Delete: {sym1}\")\n",
    "        elif action == 'insert':\n",
    "            print(f\"Insert: {sym2}\")\n",
    "\n",
    "# 比较符号是否等价\n",
    "def compare_latex_symbols(latex1, latex2):\n",
    "    symbols1 = extract_symbols(latex1)\n",
    "    symbols2 = extract_symbols(latex2)\n",
    "    return sorted(symbols1) == sorted(symbols2)\n",
    "\n",
    "\n",
    "# 主函数\n",
    "def analyze_latex_comparison(test_dir, caption_dict, pred_dict, length_range, idx):\n",
    "    # 过滤符合长度范围的LaTeX序列并计算预测错误的序列\n",
    "    error_keys = []\n",
    "    for key in caption_dict:\n",
    "        if length_range[0] <= len(caption_dict[key]) <= length_range[1]:\n",
    "            caption_latex = caption_dict[key]\n",
    "            pred_latex = pred_dict.get(key, [])\n",
    "            edit_dist = editdistance.eval(pred_latex, caption_latex)\n",
    "            if edit_dist != 0:\n",
    "                error_keys.append(key)\n",
    "    \n",
    "    if idx >= len(error_keys):\n",
    "        print(\"Index out of range\")\n",
    "        return\n",
    "    print(f\"Current idx: {idx + 1} out of {len(error_keys)} total errors\")\n",
    "    selected_key = error_keys[idx]\n",
    "    random_img_file = selected_key + \".bmp\"\n",
    "    random_img_path = os.path.join(test_dir, \"img\", random_img_file)\n",
    "\n",
    "    print(\"Ground truth image:\")\n",
    "    display(Image.open(random_img_path))\n",
    "\n",
    "    caption_latex = caption_dict[selected_key]\n",
    "    print(\"Caption LaTeX:\")\n",
    "    display(Math(\" \".join(caption_latex)))\n",
    "\n",
    "    pred_latex = pred_dict[selected_key]\n",
    "    print(\"Predicted LaTeX:\")\n",
    "    display(Math(\" \".join(pred_latex)))\n",
    "\n",
    "    # 计算编辑距离\n",
    "    edit_dist = editdistance.eval(pred_latex, caption_latex)\n",
    "    print(\"Edit distance:\", edit_dist)\n",
    "\n",
    "    # 生成并显示编辑路径\n",
    "    if edit_dist != 0:\n",
    "        edit_path = generate_edit_path(\" \".join(caption_latex), \" \".join(pred_latex))\n",
    "        \n",
    "        print(\"Length of caption LaTeX:\", len(caption_latex))\n",
    "        print(\"Length of predicted LaTeX:\", len(pred_latex))\n",
    "        \n",
    "        print(\"Edit Path:\")\n",
    "        print_edit_path(edit_path)\n",
    "\n",
    "    # 比较符号是否等价\n",
    "    if compare_latex_symbols(\" \".join(pred_latex), \" \".join(caption_latex)):\n",
    "        print(\"The LaTeX sequences are equivalent.\")\n",
    "    else:\n",
    "        print(\"The LaTeX sequences are not equivalent.\")"
   ]
  },
  {
   "cell_type": "code",
   "execution_count": null,
   "metadata": {},
   "outputs": [],
   "source": []
  },
  {
   "cell_type": "code",
   "execution_count": 18,
   "metadata": {},
   "outputs": [],
   "source": [
    "# 示例调用\n",
    "# test_dir = \"path/to/your/test_directory\"  # 修改为你的测试目录路径\n",
    "# caption_dict = {\"example_key\": [\"\\\\phi\", \"=\", \"a\", \"+\", \"b\"]}  # 修改为你的caption字典\n",
    "# pred_dict = {\"example_key\": [\"\\\\phi\", \"=\", \"a\", \"-\", \"b\"]}  # 修改为你的预测字典\n",
    "length_range = (0,100)  # 修改为你需要的长度范围\n",
    "idx = 0  # 选择第几个预测错误的序列\n",
    "\n"
   ]
  },
  {
   "cell_type": "code",
   "execution_count": 19,
   "metadata": {},
   "outputs": [
    {
     "name": "stdout",
     "output_type": "stream",
     "text": [
      "/home/liyu/Project/icpr/notebooks\n",
      "../data/test\n",
      "Current idx: 1 out of 250 total errors\n",
      "Ground truth image:\n"
     ]
    },
    {
     "data": {
      "image/png": "[encoded data removed]",
      "text/plain": [
       "<PIL.BmpImagePlugin.BmpImageFile image mode=L size=456x128 at 0x7F9B66E7EA90>"
      ]
     },
     "metadata": {},
     "output_type": "display_data"
    },
    {
     "name": "stdout",
     "output_type": "stream",
     "text": [
      "Caption LaTeX:\n"
     ]
    },
    {
     "data": {
      "text/latex": [
       "$\\displaystyle \\begin {aligned} \\mathrm { H } & = \\mathrm { L } - p _ { \\beta } z _ { l } z ^ { \\beta } \\\\ & = \\mathrm { L } + z _ { \\beta } ^ { * } { } _ { \\beta } p _ { l } ^ { * } { } _ { l } ^ { \\beta } ( i \\cdot l \\cdot 1 \\cdot 2 ) \\end {aligned}$"
      ],
      "text/plain": [
       "<IPython.core.display.Math object>"
      ]
     },
     "metadata": {},
     "output_type": "display_data"
    },
    {
     "name": "stdout",
     "output_type": "stream",
     "text": [
      "Predicted LaTeX:\n"
     ]
    },
    {
     "data": {
      "text/latex": [
       "$\\displaystyle \\begin {aligned} \\mathrm { H } & = \\mathrm { L } - p _ { \\beta } z _ { l } z ^ { \\beta } \\\\ & = \\mathrm { L } + z _ { \\beta } ^ { * } p _ { l l } ^ { * \\beta } ( i \\cdot l \\cdot 1 \\cdot 2 ) \\end {aligned}$"
      ],
      "text/plain": [
       "<IPython.core.display.Math object>"
      ]
     },
     "metadata": {},
     "output_type": "display_data"
    },
    {
     "name": "stdout",
     "output_type": "stream",
     "text": [
      "Edit distance: 16\n",
      "Length of caption LaTeX: 81\n",
      "Length of predicted LaTeX: 67\n",
      "Edit Path:\n",
      "Delete: {\n",
      "Delete: }\n",
      "Delete: _\n",
      "Delete: {\n",
      "Delete: \\beta\n",
      "Delete: }\n",
      "Insert: l\n",
      "Delete: }\n",
      "Delete: {\n",
      "Delete: }\n",
      "Delete: _\n",
      "Delete: {\n",
      "Delete: l\n",
      "Delete: }\n",
      "Delete: ^\n",
      "Delete: {\n",
      "The LaTeX sequences are not equivalent.\n"
     ]
    }
   ],
   "source": [
    "print(os.getcwd())\n",
    "print(test_dir)\n",
    "analyze_latex_comparison(test_dir, caption_dict, pred_dict, length_range, idx)\n",
    "# print(\"idx = \",idx)\n",
    "idx += 1"
   ]
  },
  {
   "cell_type": "code",
   "execution_count": 20,
   "metadata": {},
   "outputs": [],
   "source": [
    "# 统计指定长度范围内包含特定字符串的预测错误情况\n",
    "def analyze_errors_with_substrings(test_dir, caption_dict, pred_dict, length_range, substrings):\n",
    "    error_count = 0\n",
    "    total_count = 0\n",
    "    contain_count = 0\n",
    "    \n",
    "    for key in caption_dict:\n",
    "        caption_latex = caption_dict[key]\n",
    "        if length_range[0] <= len(caption_latex) <= length_range[1]:\n",
    "            total_count += 1\n",
    "            contains_substring = any(sub in \" \".join(caption_latex) for sub in substrings)\n",
    "            if contains_substring:\n",
    "                contain_count += 1\n",
    "                pred_latex = pred_dict.get(key, [])\n",
    "                edit_dist = editdistance.eval(pred_latex, caption_latex)\n",
    "                if edit_dist != 0:\n",
    "                    error_count += 1\n",
    "    print(\" \",length_range)\n",
    "    print(f\"Total sequences in range: {total_count}\")\n",
    "    print(f\"total {contain_count} contain these string \")\n",
    "    print(f\"Total sequences with errors containing specified substrings: {error_count}\")\n",
    "    print(f\"Error rate: {error_count / contain_count * 100:.2f}%\")\n",
    "    \n",
    "# substrings = [\"\\\\mathrm\",\"\\\\mathbf\",\"\\\\boldsymbol\"]\n",
    "# substrings = [\"\\\\mathbf\"]\n",
    "\n",
    "# analyze_errors_with_substrings(test_dir, caption_dict, pred_dict, (0,100), substrings)"
   ]
  },
  {
   "cell_type": "code",
   "execution_count": 21,
   "metadata": {},
   "outputs": [
    {
     "name": "stdout",
     "output_type": "stream",
     "text": [
      "  (0, 100)\n",
      "Total sequences in range: 932\n",
      "total 231 contain these string \n",
      "Total sequences with errors containing specified substrings: 59\n",
      "Error rate: 25.54%\n",
      "  (0, 100)\n",
      "Total sequences in range: 932\n",
      "total 55 contain these string \n",
      "Total sequences with errors containing specified substrings: 24\n",
      "Error rate: 43.64%\n",
      "  (0, 100)\n",
      "Total sequences in range: 932\n",
      "total 27 contain these string \n",
      "Total sequences with errors containing specified substrings: 17\n",
      "Error rate: 62.96%\n",
      "  (100, 200)\n",
      "Total sequences in range: 1425\n",
      "total 578 contain these string \n",
      "Total sequences with errors containing specified substrings: 222\n",
      "Error rate: 38.41%\n",
      "  (100, 200)\n",
      "Total sequences in range: 1425\n",
      "total 123 contain these string \n",
      "Total sequences with errors containing specified substrings: 70\n",
      "Error rate: 56.91%\n",
      "  (100, 200)\n",
      "Total sequences in range: 1425\n",
      "total 88 contain these string \n",
      "Total sequences with errors containing specified substrings: 57\n",
      "Error rate: 64.77%\n",
      "  (200, 300)\n",
      "Total sequences in range: 523\n",
      "total 248 contain these string \n",
      "Total sequences with errors containing specified substrings: 128\n",
      "Error rate: 51.61%\n",
      "  (200, 300)\n",
      "Total sequences in range: 523\n",
      "total 68 contain these string \n",
      "Total sequences with errors containing specified substrings: 50\n",
      "Error rate: 73.53%\n",
      "  (200, 300)\n",
      "Total sequences in range: 523\n",
      "total 42 contain these string \n",
      "Total sequences with errors containing specified substrings: 32\n",
      "Error rate: 76.19%\n",
      "  (300, 400)\n",
      "Total sequences in range: 112\n",
      "total 46 contain these string \n",
      "Total sequences with errors containing specified substrings: 35\n",
      "Error rate: 76.09%\n",
      "  (300, 400)\n",
      "Total sequences in range: 112\n",
      "total 8 contain these string \n",
      "Total sequences with errors containing specified substrings: 7\n",
      "Error rate: 87.50%\n",
      "  (300, 400)\n",
      "Total sequences in range: 112\n",
      "total 6 contain these string \n",
      "Total sequences with errors containing specified substrings: 5\n",
      "Error rate: 83.33%\n",
      " (0, 100)\n",
      "Total sequences in range: 932\n",
      "total 231 contain these string \n",
      "Total sequences with errors containing specified substrings: 59\n",
      "Error rate: 25.54%\n",
      "  (0, 100)\n",
      "Total sequences in range: 932\n",
      "total 55 contain these string \n",
      "Total sequences with errors containing specified substrings: 24\n",
      "Error rate: 43.64%\n",
      "  (0, 100)\n",
      "Total sequences in range: 932\n",
      "total 27 contain these string \n",
      "Total sequences with errors containing specified substrings: 17\n",
      "Error rate: 62.96%\n",
      "  (100, 200)\n",
      "Total sequences in range: 1425\n",
      "total 578 contain these string \n",
      "Total sequences with errors containing specified substrings: 222\n",
      "Error rate: 38.41%\n",
      "  (100, 200)\n",
      "Total sequences in range: 1425\n",
      "total 123 contain these string \n",
      "Total sequences with errors containing specified substrings: 70\n",
      "Error rate: 56.91%\n",
      "  (100, 200)\n",
      "Total sequences in range: 1425\n",
      "total 88 contain these string \n",
      "Total sequences with errors containing specified substrings: 57\n",
      "Error rate: 64.77%\n",
      "  (200, 300)\n",
      "Total sequences in range: 523\n",
      "total 248 contain these string \n",
      "Total sequences with errors containing specified substrings: 128\n",
      "Error rate: 51.61%\n",
      "  (200, 300)\n",
      "Total sequences in range: 523\n",
      "total 68 contain these string \n",
      "Total sequences with errors containing specified substrings: 50\n",
      "Error rate: 73.53%\n",
      "  (200, 300)\n",
      "Total sequences in range: 523\n",
      "total 42 contain these string \n",
      "Total sequences with errors containing specified substrings: 32\n",
      "Error rate: 76.19%\n",
      "  (300, 400)\n",
      "Total sequences in range: 112\n",
      "total 46 contain these string \n",
      "Total sequences with errors containing specified substrings: 35\n",
      "Error rate: 76.09%\n",
      "  (300, 400)\n",
      "Total sequences in range: 112\n",
      "total 8 contain these string \n",
      "Total sequences with errors containing specified substrings: 7\n",
      "Error rate: 87.50%\n",
      "  (300, 400)\n",
      "Total sequences in range: 112\n",
      "total 6 contain these string \n",
      "Total sequences with errors containing specified substrings: 5\n",
      "Error rate: 83.33%\n"
     ]
    }
   ],
   "source": [
    "substrings = [\"\\\\mathrm\",\"\\\\mathbf\",\"\\\\boldsymbol\"]\n",
    "for i in range(0,400,100):\n",
    "    for s in substrings:\n",
    "        analyze_errors_with_substrings(test_dir, caption_dict, pred_dict, (i,i+100), [s])"
   ]
  },
  {
   "cell_type": "code",
   "execution_count": 29,
   "metadata": {},
   "outputs": [
    {
     "ename": "SyntaxError",
     "evalue": "f-string expression part cannot include a backslash (4056226493.py, line 37)",
     "output_type": "error",
     "traceback": [
      "\u001b[0;36m  File \u001b[0;32m\"/tmp/ipykernel_4463/4056226493.py\"\u001b[0;36m, line \u001b[0;32m37\u001b[0m\n\u001b[0;31m    \"\"\"))\u001b[0m\n\u001b[0m        ^\u001b[0m\n\u001b[0;31mSyntaxError\u001b[0m\u001b[0;31m:\u001b[0m f-string expression part cannot include a backslash\n"
     ]
    }
   ],
   "source": [
    "from PIL import Image, UnidentifiedImageError\n",
    "from IPython.display import display, Math, clear_output\n",
    "import difflib\n",
    "import io\n",
    "from contextlib import redirect_stdout\n",
    "\n",
    "from IPython.display import Math, display_latex, clear_output\n",
    "import IPython\n",
    "\n",
    "import matplotlib.pyplot as plt\n",
    "from matplotlib.backends.backend_agg import FigureCanvasAgg as FigureCanvas\n",
    "from matplotlib.figure import Figure\n",
    "\n",
    "# 检查LaTeX序列是否合法\n",
    "from IPython.display import Math, display\n",
    "import re\n",
    "\n",
    "from IPython.display import display, Javascript\n",
    "\n",
    "def is_valid_latex(latex_sequence):\n",
    "    # 使用 JavaScript 进行 LaTeX 渲染并捕捉错误\n",
    "    display(Javascript(f\"\"\"\n",
    "    (function() {{\n",
    "        var valid = true;\n",
    "        try {{\n",
    "            var katex = require('katex');\n",
    "            var html = katex.renderToString(\"{latex_sequence.replace('\\\\', '\\\\\\\\')}\");\n",
    "        }} catch (e) {{\n",
    "            valid = false;\n",
    "        }}\n",
    "        if (valid) {{\n",
    "            console.log(\"Valid LaTeX\");\n",
    "        }} else {{\n",
    "            console.log(\"Invalid LaTeX\");\n",
    "        }}\n",
    "    }})();\n",
    "    \"\"\"))\n",
    "\n",
    "\n",
    "# 统计指定长度范围内不合法的预测序列\n",
    "def analyze_invalid_latex_sequences(caption_dict, pred_dict, length_range):\n",
    "    invalid_count = 0\n",
    "    total_count = 0\n",
    "\n",
    "    for key in caption_dict:\n",
    "        caption_latex = caption_dict[key]\n",
    "        if length_range[0] <= len(caption_latex) <= length_range[1]:\n",
    "            total_count += 1\n",
    "            pred_latex = pred_dict.get(key, [])\n",
    "            if not is_valid_latex(pred_latex):\n",
    "                invalid_count += 1\n",
    "\n",
    "    print(\" length \",  length_range)\n",
    "    print(f\"Total sequences in range: {total_count}\")\n",
    "    print(f\"Total invalid predicted sequences: {invalid_count}\")\n",
    "\n",
    "analyze_invalid_latex_sequences(caption_dict, pred_dict, (0, 400))"
   ]
  },
  {
   "cell_type": "markdown",
   "metadata": {},
   "source": [
    "测试latex序列能否被渲染"
   ]
  },
  {
   "cell_type": "code",
   "execution_count": 23,
   "metadata": {},
   "outputs": [
    {
     "name": "stdout",
     "output_type": "stream",
     "text": [
      "['\\\\begin', '{array}', '{', 'l', '}', 'P', '=', 'D', 'K', '\\\\sum', '_', '{', 'i', '\\\\in', '\\\\Lambda', '_', '{', 'p', '}', '}', 'z', '_', '{', 'i', 'j', '}', '(', '0', ')', 'I', '_', '{', 'i', '}', '\\\\\\\\', 'Q', '=', '\\\\frac', '{', '7', '}', '{', '4', '}', '\\\\alpha', 'D', 'E', '\\\\sum', '_', '{', 'i', '\\\\in', '\\\\Lambda', '_', '{', 'p', '}', '}', 'z', '_', '{', 'i', 'j', '}', '(', '0', ')', 'f', '_', '{', 'p', '}', '\\\\left', '(', 'I', '_', '{', 'i', '}', '\\\\right', ')', '\\\\end', '{array}']\n"
     ]
    }
   ],
   "source": [
    "print((pred_latex))"
   ]
  },
  {
   "cell_type": "code",
   "execution_count": 24,
   "metadata": {},
   "outputs": [],
   "source": [
    "# "
   ]
  },
  {
   "cell_type": "code",
   "execution_count": 70,
   "metadata": {},
   "outputs": [
    {
     "data": {
      "text/latex": [
       "$\\displaystyle a + b = c$"
      ],
      "text/plain": [
       "<IPython.core.display.Math object>"
      ]
     },
     "metadata": {},
     "output_type": "display_data"
    },
    {
     "name": "stdout",
     "output_type": "stream",
     "text": [
      "Unexpected Error: 'NoneType' object has no attribute '_repr_html_'\n"
     ]
    },
    {
     "data": {
      "text/latex": [
       "$\\displaystyle a + b \\left {$"
      ],
      "text/plain": [
       "<IPython.core.display.Math object>"
      ]
     },
     "metadata": {},
     "output_type": "display_data"
    },
    {
     "name": "stdout",
     "output_type": "stream",
     "text": [
      "Unexpected Error: 'NoneType' object has no attribute '_repr_html_'\n"
     ]
    }
   ],
   "source": [
    "from IPython.display import Math, display, HTML\n",
    "import re\n",
    "\n",
    "def render_latex(latex_sequence):\n",
    "    try:\n",
    "        rendered = Math(latex_sequence)._repr_latex_()\n",
    "\n",
    "        (display(Math(latex_sequence)).)\n",
    "    except Exception as e:\n",
    "        print(f\"Unexpected Error: {e}\")\n",
    "\n",
    "# 示例 LaTeX 表达式\n",
    "valid_latex = r\"a + b = c\"\n",
    "invalid_latex = r\"a + b \\left {\"\n",
    "\n",
    "# 渲染合法的 LaTeX 表达式\n",
    "render_latex(valid_latex)\n",
    "\n",
    "# 尝试渲染不合法的 LaTeX 表达式，并捕捉错误\n",
    "render_latex(invalid_latex)"
   ]
  },
  {
   "cell_type": "code",
   "execution_count": 51,
   "metadata": {},
   "outputs": [
    {
     "name": "stdout",
     "output_type": "stream",
     "text": [
      "Is the LaTeX code valid? True\n"
     ]
    }
   ],
   "source": []
  },
  {
   "cell_type": "code",
   "execution_count": 60,
   "metadata": {},
   "outputs": [
    {
     "ename": "FileNotFoundError",
     "evalue": "[Errno 2] No such file or directory: 'pdflatex': 'pdflatex'",
     "output_type": "error",
     "traceback": [
      "\u001b[0;31m---------------------------------------------------------------------------\u001b[0m",
      "\u001b[0;31mFileNotFoundError\u001b[0m                         Traceback (most recent call last)",
      "\u001b[0;32m/tmp/ipykernel_4463/2058042307.py\u001b[0m in \u001b[0;36m<module>\u001b[0;34m\u001b[0m\n\u001b[1;32m     62\u001b[0m \u001b[0;31m\\\u001b[0m\u001b[0mend\u001b[0m\u001b[0;34m{\u001b[0m\u001b[0malign\u001b[0m\u001b[0;34m*\u001b[0m\u001b[0;34m}\u001b[0m\u001b[0;34m\u001b[0m\u001b[0;34m\u001b[0m\u001b[0m\n\u001b[1;32m     63\u001b[0m '''\n\u001b[0;32m---> 64\u001b[0;31m \u001b[0mrender_latex_to_image\u001b[0m\u001b[0;34m(\u001b[0m\u001b[0mlatex_code\u001b[0m\u001b[0;34m,\u001b[0m \u001b[0;34m'output.png'\u001b[0m\u001b[0;34m)\u001b[0m\u001b[0;34m\u001b[0m\u001b[0;34m\u001b[0m\u001b[0m\n\u001b[0m",
      "\u001b[0;32m/tmp/ipykernel_4463/2058042307.py\u001b[0m in \u001b[0;36mrender_latex_to_image\u001b[0;34m(latex_str, output_image)\u001b[0m\n\u001b[1;32m     31\u001b[0m \u001b[0;34m\u001b[0m\u001b[0m\n\u001b[1;32m     32\u001b[0m         \u001b[0;31m# Compile .tex file to .pdf\u001b[0m\u001b[0;34m\u001b[0m\u001b[0;34m\u001b[0m\u001b[0;34m\u001b[0m\u001b[0m\n\u001b[0;32m---> 33\u001b[0;31m         \u001b[0msubprocess\u001b[0m\u001b[0;34m.\u001b[0m\u001b[0mrun\u001b[0m\u001b[0;34m(\u001b[0m\u001b[0;34m[\u001b[0m\u001b[0;34m'pdflatex'\u001b[0m\u001b[0;34m,\u001b[0m \u001b[0mtex_file\u001b[0m\u001b[0;34m]\u001b[0m\u001b[0;34m,\u001b[0m \u001b[0mcheck\u001b[0m\u001b[0;34m=\u001b[0m\u001b[0;32mTrue\u001b[0m\u001b[0;34m)\u001b[0m\u001b[0;34m\u001b[0m\u001b[0;34m\u001b[0m\u001b[0m\n\u001b[0m\u001b[1;32m     34\u001b[0m \u001b[0;34m\u001b[0m\u001b[0m\n\u001b[1;32m     35\u001b[0m         \u001b[0;31m# Convert .pdf to .png\u001b[0m\u001b[0;34m\u001b[0m\u001b[0;34m\u001b[0m\u001b[0;34m\u001b[0m\u001b[0m\n",
      "\u001b[0;32m~/miniconda3/envs/CoMER/lib/python3.7/subprocess.py\u001b[0m in \u001b[0;36mrun\u001b[0;34m(input, capture_output, timeout, check, *popenargs, **kwargs)\u001b[0m\n\u001b[1;32m    486\u001b[0m         \u001b[0mkwargs\u001b[0m\u001b[0;34m[\u001b[0m\u001b[0;34m'stderr'\u001b[0m\u001b[0;34m]\u001b[0m \u001b[0;34m=\u001b[0m \u001b[0mPIPE\u001b[0m\u001b[0;34m\u001b[0m\u001b[0;34m\u001b[0m\u001b[0m\n\u001b[1;32m    487\u001b[0m \u001b[0;34m\u001b[0m\u001b[0m\n\u001b[0;32m--> 488\u001b[0;31m     \u001b[0;32mwith\u001b[0m \u001b[0mPopen\u001b[0m\u001b[0;34m(\u001b[0m\u001b[0;34m*\u001b[0m\u001b[0mpopenargs\u001b[0m\u001b[0;34m,\u001b[0m \u001b[0;34m**\u001b[0m\u001b[0mkwargs\u001b[0m\u001b[0;34m)\u001b[0m \u001b[0;32mas\u001b[0m \u001b[0mprocess\u001b[0m\u001b[0;34m:\u001b[0m\u001b[0;34m\u001b[0m\u001b[0;34m\u001b[0m\u001b[0m\n\u001b[0m\u001b[1;32m    489\u001b[0m         \u001b[0;32mtry\u001b[0m\u001b[0;34m:\u001b[0m\u001b[0;34m\u001b[0m\u001b[0;34m\u001b[0m\u001b[0m\n\u001b[1;32m    490\u001b[0m             \u001b[0mstdout\u001b[0m\u001b[0;34m,\u001b[0m \u001b[0mstderr\u001b[0m \u001b[0;34m=\u001b[0m \u001b[0mprocess\u001b[0m\u001b[0;34m.\u001b[0m\u001b[0mcommunicate\u001b[0m\u001b[0;34m(\u001b[0m\u001b[0minput\u001b[0m\u001b[0;34m,\u001b[0m \u001b[0mtimeout\u001b[0m\u001b[0;34m=\u001b[0m\u001b[0mtimeout\u001b[0m\u001b[0;34m)\u001b[0m\u001b[0;34m\u001b[0m\u001b[0;34m\u001b[0m\u001b[0m\n",
      "\u001b[0;32m~/miniconda3/envs/CoMER/lib/python3.7/subprocess.py\u001b[0m in \u001b[0;36m__init__\u001b[0;34m(self, args, bufsize, executable, stdin, stdout, stderr, preexec_fn, close_fds, shell, cwd, env, universal_newlines, startupinfo, creationflags, restore_signals, start_new_session, pass_fds, encoding, errors, text)\u001b[0m\n\u001b[1;32m    798\u001b[0m                                 \u001b[0mc2pread\u001b[0m\u001b[0;34m,\u001b[0m \u001b[0mc2pwrite\u001b[0m\u001b[0;34m,\u001b[0m\u001b[0;34m\u001b[0m\u001b[0;34m\u001b[0m\u001b[0m\n\u001b[1;32m    799\u001b[0m                                 \u001b[0merrread\u001b[0m\u001b[0;34m,\u001b[0m \u001b[0merrwrite\u001b[0m\u001b[0;34m,\u001b[0m\u001b[0;34m\u001b[0m\u001b[0;34m\u001b[0m\u001b[0m\n\u001b[0;32m--> 800\u001b[0;31m                                 restore_signals, start_new_session)\n\u001b[0m\u001b[1;32m    801\u001b[0m         \u001b[0;32mexcept\u001b[0m\u001b[0;34m:\u001b[0m\u001b[0;34m\u001b[0m\u001b[0;34m\u001b[0m\u001b[0m\n\u001b[1;32m    802\u001b[0m             \u001b[0;31m# Cleanup if the child failed starting.\u001b[0m\u001b[0;34m\u001b[0m\u001b[0;34m\u001b[0m\u001b[0;34m\u001b[0m\u001b[0m\n",
      "\u001b[0;32m~/miniconda3/envs/CoMER/lib/python3.7/subprocess.py\u001b[0m in \u001b[0;36m_execute_child\u001b[0;34m(self, args, executable, preexec_fn, close_fds, pass_fds, cwd, env, startupinfo, creationflags, shell, p2cread, p2cwrite, c2pread, c2pwrite, errread, errwrite, restore_signals, start_new_session)\u001b[0m\n\u001b[1;32m   1549\u001b[0m                         \u001b[0;32mif\u001b[0m \u001b[0merrno_num\u001b[0m \u001b[0;34m==\u001b[0m \u001b[0merrno\u001b[0m\u001b[0;34m.\u001b[0m\u001b[0mENOENT\u001b[0m\u001b[0;34m:\u001b[0m\u001b[0;34m\u001b[0m\u001b[0;34m\u001b[0m\u001b[0m\n\u001b[1;32m   1550\u001b[0m                             \u001b[0merr_msg\u001b[0m \u001b[0;34m+=\u001b[0m \u001b[0;34m': '\u001b[0m \u001b[0;34m+\u001b[0m \u001b[0mrepr\u001b[0m\u001b[0;34m(\u001b[0m\u001b[0merr_filename\u001b[0m\u001b[0;34m)\u001b[0m\u001b[0;34m\u001b[0m\u001b[0;34m\u001b[0m\u001b[0m\n\u001b[0;32m-> 1551\u001b[0;31m                     \u001b[0;32mraise\u001b[0m \u001b[0mchild_exception_type\u001b[0m\u001b[0;34m(\u001b[0m\u001b[0merrno_num\u001b[0m\u001b[0;34m,\u001b[0m \u001b[0merr_msg\u001b[0m\u001b[0;34m,\u001b[0m \u001b[0merr_filename\u001b[0m\u001b[0;34m)\u001b[0m\u001b[0;34m\u001b[0m\u001b[0;34m\u001b[0m\u001b[0m\n\u001b[0m\u001b[1;32m   1552\u001b[0m                 \u001b[0;32mraise\u001b[0m \u001b[0mchild_exception_type\u001b[0m\u001b[0;34m(\u001b[0m\u001b[0merr_msg\u001b[0m\u001b[0;34m)\u001b[0m\u001b[0;34m\u001b[0m\u001b[0;34m\u001b[0m\u001b[0m\n\u001b[1;32m   1553\u001b[0m \u001b[0;34m\u001b[0m\u001b[0m\n",
      "\u001b[0;31mFileNotFoundError\u001b[0m: [Errno 2] No such file or directory: 'pdflatex': 'pdflatex'"
     ]
    }
   ],
   "source": []
  },
  {
   "cell_type": "code",
   "execution_count": null,
   "metadata": {},
   "outputs": [],
   "source": []
  }
 ],
 "metadata": {
  "kernelspec": {
   "display_name": "CoMER",
   "language": "python",
   "name": "python3"
  },
  "language_info": {
   "codemirror_mode": {
    "name": "ipython",
    "version": 3
   },
   "file_extension": ".py",
   "mimetype": "text/x-python",
   "name": "python",
   "nbconvert_exporter": "python",
   "pygments_lexer": "ipython3",
   "version": "3.7.12"
  }
 },
 "nbformat": 4,
 "nbformat_minor": 2
}
