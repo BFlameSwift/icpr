{
 "cells": [
  {
   "cell_type": "code",
   "execution_count": 39,
   "metadata": {},
   "outputs": [],
   "source": [
    "import json\n",
    "import os\n",
    "import zipfile"
   ]
  },
  {
   "cell_type": "code",
   "execution_count": 40,
   "metadata": {},
   "outputs": [
    {
     "name": "stdout",
     "output_type": "stream",
     "text": [
      "2993 ['0115819', '0039302', '0040434', '0123488', '0006373']\n",
      "['\\\\begin', '{array}', '{', 'l', '}', 'x', '+', 'y', '\\\\\\\\', '=', '\\\\mathrm', '{', 'B', '}', '\\\\\\\\', '=', '\\\\frac', '{', 'x', 'y', '}', '{', 'x', '+', 'y', '}', '\\\\\\\\', '=', '\\\\frac', '{', '\\\\mathrm', '{', 'A', 'B', '}', '}', '{', '\\\\mathrm', '{', '~', 'A', '}', '-', '\\\\mathrm', '{', 'B', '}', '}', '\\\\end', '{array}']\n"
     ]
    }
   ],
   "source": [
    "result_zip_file = '../result.zip'\n",
    "\n",
    "pred_dict = {}\n",
    "# 打开 ZIP 文件\n",
    "with zipfile.ZipFile(result_zip_file, 'r') as zip_ref:\n",
    "    # 列出 ZIP 文件中的所有文件\n",
    "    file_list = zip_ref.namelist()\n",
    "\n",
    "    for f in file_list:\n",
    "        # 读取指定文件的内容\n",
    "        with zip_ref.open(f) as file:\n",
    "            filename = f.split(\".\")[0]\n",
    "            content = file.read()\n",
    "            decoded_content = content.decode('utf-8')  # 假设文件内容是 UTF-8 编码\n",
    "            content_lines = decoded_content.split('\\n')\n",
    "            latex = content_lines[1:]\n",
    "            \n",
    "            latex = eval(str(latex))[0].split()\n",
    "            \n",
    "            latex[0].replace('$', '')\n",
    "            if latex[0].startswith('$'):\n",
    "                latex[0] = latex[0][1:]\n",
    "            if latex[-1].endswith('$'):\n",
    "                latex[-1] = latex[-1][:-1]\n",
    "            # latex[-1].replace('$', '')\n",
    "            pred_dict[filename] = latex\n",
    "        \n",
    "\n",
    "print(len(pred_dict.keys()),list(pred_dict.keys())[:5])\n",
    "\n",
    "print(pred_dict[list(pred_dict.keys())[1]])"
   ]
  },
  {
   "cell_type": "code",
   "execution_count": null,
   "metadata": {},
   "outputs": [],
   "source": []
  },
  {
   "cell_type": "code",
   "execution_count": 41,
   "metadata": {},
   "outputs": [],
   "source": [
    "answer_list = []\n",
    "\n",
    "keys = [str(i) for i in pred_dict.keys()]\n",
    "keys.sort()\n",
    "for key in keys:\n",
    "\n",
    "    value = pred_dict[key]\n",
    "    it = {\n",
    "        \"filename\": key+'.png',\n",
    "        \"result\":\" \".join(value)\n",
    "    }\n",
    "    answer_list.append(it)\n",
    "\n"
   ]
  },
  {
   "cell_type": "code",
   "execution_count": 42,
   "metadata": {},
   "outputs": [],
   "source": [
    "output_dir = \"../\"\n",
    "json.dump(answer_list, open(os.path.join(output_dir, \"answer.json\"), \"w\"), indent=4)"
   ]
  },
  {
   "cell_type": "code",
   "execution_count": null,
   "metadata": {},
   "outputs": [],
   "source": []
  }
 ],
 "metadata": {
  "kernelspec": {
   "display_name": "CoMER",
   "language": "python",
   "name": "python3"
  },
  "language_info": {
   "codemirror_mode": {
    "name": "ipython",
    "version": 3
   },
   "file_extension": ".py",
   "mimetype": "text/x-python",
   "name": "python",
   "nbconvert_exporter": "python",
   "pygments_lexer": "ipython3",
   "version": "3.7.12"
  }
 },
 "nbformat": 4,
 "nbformat_minor": 2
}
