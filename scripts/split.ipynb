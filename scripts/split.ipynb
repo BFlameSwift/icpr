{
 "cells": [
  {
   "cell_type": "code",
   "execution_count": 1,
   "metadata": {},
   "outputs": [],
   "source": [
    "import pandas as pd\n",
    "import os\n",
    "import json\n",
    "\n",
    "import shutil\n",
    "import random\n",
    "from PIL import Image"
   ]
  },
  {
   "cell_type": "code",
   "execution_count": 2,
   "metadata": {},
   "outputs": [],
   "source": [
    "def make_caption(json_path,img_path,caption_path):\n",
    "     # 检查路径是否存在\n",
    "    if not os.path.exists(json_path):\n",
    "        raise FileNotFoundError(f\"JSON path {json_path} does not exist.\")\n",
    "    \n",
    "    if not os.path.exists(img_path):\n",
    "        raise FileNotFoundError(f\"Image path {img_path} does not exist.\")\n",
    "    \n",
    "    captions = []\n",
    "    files = os.listdir(json_path)\n",
    "    img_files = [f.split(\".\")[0] for f  in os.listdir(img_path)]\n",
    "    \n",
    "    \n",
    "    for f in files:\n",
    "        with open(os.path.join(json_path,f), 'r', encoding='utf-8') as file:\n",
    "            data = json.load(file)\n",
    "            # 获取文件名（不包含扩展名）\n",
    "            filename = os.path.splitext(f)[0]\n",
    "            # 确保文件名在图像列表中\n",
    "            if filename in img_files:\n",
    "                captions.append([filename, data['latex_styled']])\n",
    "    # load data count\n",
    "    \n",
    "    print(\"Loading data count:\",len(captions))\n",
    "    with open(os.path.join(caption_path,'caption.txt'), 'w') as file:\n",
    "        for row in captions:\n",
    "            file.write(f\"{row[0]}\\t{row[1]}\\n\")\n"
   ]
  },
  {
   "cell_type": "code",
   "execution_count": 3,
   "metadata": {},
   "outputs": [],
   "source": [
    "# make_caption(\"../data/source/json\",\"../data/source/png\",\"../data/source/\")"
   ]
  },
  {
   "cell_type": "code",
   "execution_count": 8,
   "metadata": {},
   "outputs": [],
   "source": [
    "def split_train_test(source_dir, train_dir, test_dir, test_size=0.2, seed=7):\n",
    "    if seed is not None:\n",
    "        random.seed(seed)\n",
    "    \n",
    "\n",
    "    # 获取所有文件的列表\n",
    "    files = [f for f in os.listdir(source_dir) if os.path.isfile(os.path.join(source_dir, f))]\n",
    "    \n",
    "    # 随机化文件列表\n",
    "    random.shuffle(files)\n",
    "    \n",
    "    # 计算测试集的大小\n",
    "    test_count = int(len(files) * test_size)\n",
    "    \n",
    "    # 分配文件到训练集和测试集\n",
    "    test_files = files[:test_count]\n",
    "    train_files = files[test_count:]\n",
    "    \n",
    "    # 创建目标目录\n",
    "    os.makedirs(train_dir, exist_ok=True)\n",
    "    os.makedirs(test_dir, exist_ok=True)\n",
    "    \n",
    "    # resize image to small than 32e4 \n",
    "    def convert_and_save(source_file, dest_file):\n",
    "        with Image.open(source_file) as img:\n",
    "            width, height = img.size\n",
    "            # resize 图片大小小于160000\n",
    "            if width * height > 160000:\n",
    "                scaling_factor = (160000 / (width * height)) ** 0.5\n",
    "                new_width = int(width * scaling_factor)\n",
    "                new_height = int(height * scaling_factor)\n",
    "                img = img.resize((new_width, new_height), Image.ANTIALIAS)\n",
    "            gray_img = img.convert('L')\n",
    "            gray_img.save(dest_file, format='BMP')\n",
    "    # 移动文件到相应的目录，并转换为灰度图和BMP格式\n",
    "    for f in train_files:\n",
    "        source_file = os.path.join(source_dir, f)\n",
    "        dest_file = os.path.join(train_dir, f.replace('.png', '.bmp'))\n",
    "        convert_and_save(source_file, dest_file)\n",
    "    \n",
    "    for f in test_files:\n",
    "        source_file = os.path.join(source_dir, f)\n",
    "        dest_file = os.path.join(test_dir, f.replace('.png', '.bmp'))\n",
    "        convert_and_save(source_file, dest_file)\n",
    "    \n",
    "    print(f'Total files: {len(files)}')\n",
    "    print(f'Training files: {len(train_files)}')\n",
    "    print(f'Testing files: {len(test_files)}')"
   ]
  },
  {
   "cell_type": "code",
   "execution_count": 9,
   "metadata": {},
   "outputs": [
    {
     "name": "stdout",
     "output_type": "stream",
     "text": [
      "Total files: 15000\n",
      "Training files: 12000\n",
      "Testing files: 3000\n"
     ]
    }
   ],
   "source": [
    "split_train_test(\"../data/source/png\",\"../data/train/img\",\"../data/test/img\")\n",
    "\n"
   ]
  },
  {
   "cell_type": "code",
   "execution_count": 10,
   "metadata": {},
   "outputs": [
    {
     "name": "stdout",
     "output_type": "stream",
     "text": [
      "\\begin {array} { c } W _ { \\mathrm { n } } \" ( x ) = C \\cdot \\beta _ { \\mathrm { n } } ^ { 2 } \\left [ \\left ( - \\cos \\beta _ { \\mathrm { n } } x - \\cosh \\beta _ { \\mathrm { n } } x \\right ) - K \\left ( - \\sin \\beta _ { \\mathrm { n } } x - \\sinh \\beta _ { \\mathrm { n } } x \\right ) \\right ] \\\\ = C \\cdot \\beta _ { \\mathrm { n } } ^ { 2 } U \\left ( \\beta _ { \\mathrm { n } } x \\right ) \\end {array}\n",
      "Loading data count: 12000\n",
      "\\begin {array} { c } W _ { \\mathrm { n } } \" ( x ) = C \\cdot \\beta _ { \\mathrm { n } } ^ { 2 } \\left [ \\left ( - \\cos \\beta _ { \\mathrm { n } } x - \\cosh \\beta _ { \\mathrm { n } } x \\right ) - K \\left ( - \\sin \\beta _ { \\mathrm { n } } x - \\sinh \\beta _ { \\mathrm { n } } x \\right ) \\right ] \\\\ = C \\cdot \\beta _ { \\mathrm { n } } ^ { 2 } U \\left ( \\beta _ { \\mathrm { n } } x \\right ) \\end {array}\n",
      "Loading data count: 3000\n"
     ]
    }
   ],
   "source": [
    "make_caption(\"../data/source/json\",\"../data/train/img\",\"../data/train/\")\n",
    "make_caption(\"../data/source/json\",\"../data/test/img\",\"../data/test/\")\n",
    "\n"
   ]
  },
  {
   "cell_type": "code",
   "execution_count": null,
   "metadata": {},
   "outputs": [],
   "source": []
  }
 ],
 "metadata": {
  "kernelspec": {
   "display_name": "CoMER",
   "language": "python",
   "name": "python3"
  },
  "language_info": {
   "codemirror_mode": {
    "name": "ipython",
    "version": 3
   },
   "file_extension": ".py",
   "mimetype": "text/x-python",
   "name": "python",
   "nbconvert_exporter": "python",
   "pygments_lexer": "ipython3",
   "version": "3.7.12"
  }
 },
 "nbformat": 4,
 "nbformat_minor": 2
}
