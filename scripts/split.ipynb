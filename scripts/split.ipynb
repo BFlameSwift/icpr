{
 "cells": [
  {
   "cell_type": "code",
   "execution_count": 24,
   "metadata": {},
   "outputs": [],
   "source": [
    "import pandas as pd\n",
    "import os\n",
    "import json\n",
    "\n",
    "import shutil\n",
    "import random\n",
    "from PIL import Image"
   ]
  },
  {
   "cell_type": "code",
   "execution_count": 25,
   "metadata": {},
   "outputs": [],
   "source": [
    "def make_caption(json_path,img_path,caption_path):\n",
    "     # 检查路径是否存在\n",
    "    if not os.path.exists(json_path):\n",
    "        raise FileNotFoundError(f\"JSON path {json_path} does not exist.\")\n",
    "    \n",
    "    if not os.path.exists(img_path):\n",
    "        raise FileNotFoundError(f\"Image path {img_path} does not exist.\")\n",
    "    \n",
    "    captions = []\n",
    "    files = os.listdir(json_path)\n",
    "    img_files = [f.split(\".\")[0] for f  in os.listdir(img_path)]\n",
    "    \n",
    "    \n",
    "    for f in files:\n",
    "        with open(os.path.join(json_path,f), 'r', encoding='utf-8') as file:\n",
    "            data = json.load(file)\n",
    "            # 获取文件名（不包含扩展名）\n",
    "            filename = os.path.splitext(f)[0]\n",
    "            # 确保文件名在图像列表中\n",
    "            if filename in img_files:\n",
    "                captions.append([filename, data['latex_styled']])\n",
    "    # load data count\n",
    "    \n",
    "    print(\"Loading data count:\",len(captions))\n",
    "    with open(os.path.join(caption_path,'caption.txt'), 'w') as file:\n",
    "        for row in captions:\n",
    "            file.write(f\"{row[0]}\\t{row[1]}\\n\")\n"
   ]
  },
  {
   "cell_type": "code",
   "execution_count": 26,
   "metadata": {},
   "outputs": [],
   "source": [
    "# make_caption(\"../data/source/json\",\"../data/source/png\",\"../data/source/\")"
   ]
  },
  {
   "cell_type": "code",
   "execution_count": 27,
   "metadata": {},
   "outputs": [],
   "source": [
    "def split_train_test(source_dir, train_dir, test_dir, valid_dir,test_size=0.2, seed=7):\n",
    "    if seed is not None:\n",
    "        random.seed(seed)\n",
    "    \n",
    "\n",
    "    # 获取所有文件的列表\n",
    "    files = [f for f in os.listdir(source_dir) if os.path.isfile(os.path.join(source_dir, f))]\n",
    "    \n",
    "    # 随机化文件列表\n",
    "    random.shuffle(files)\n",
    "    \n",
    "    # 计算测试集的大小\n",
    "    test_count = int(len(files) * test_size)\n",
    "    \n",
    "    # 分配文件到训练集和测试集，和验证集\n",
    "    validation_files = files[:test_count // 3]\n",
    "    test_files = files[:test_count]\n",
    "    train_files = files[test_count:]\n",
    "    \n",
    "    \n",
    "    # 创建目标目录\n",
    "    os.makedirs(valid_dir, exist_ok=True)\n",
    "    os.makedirs(train_dir, exist_ok=True)\n",
    "    os.makedirs(test_dir, exist_ok=True)\n",
    "    \n",
    "    # resize image to small than 32e4 \n",
    "    def convert_and_save(source_file, dest_file):\n",
    "        with Image.open(source_file) as img:\n",
    "            width, height = img.size\n",
    "            # resize 图片大小小于160000\n",
    "            if width * height > 160000:\n",
    "                scaling_factor = (160000 / (width * height)) ** 0.5\n",
    "                new_width = int(width * scaling_factor)\n",
    "                new_height = int(height * scaling_factor)\n",
    "                img = img.resize((new_width, new_height), Image.ANTIALIAS)\n",
    "            gray_img = img.convert('L')\n",
    "            gray_img.save(dest_file, format='BMP')\n",
    "    # 移动文件到相应的目录，并转换为灰度图和BMP格式\n",
    "    for f in train_files:\n",
    "        source_file = os.path.join(source_dir, f)\n",
    "        dest_file = os.path.join(train_dir, f.replace('.png', '.bmp'))\n",
    "        convert_and_save(source_file, dest_file)\n",
    "    \n",
    "    for f in test_files:\n",
    "        source_file = os.path.join(source_dir, f)\n",
    "        dest_file = os.path.join(test_dir, f.replace('.png', '.bmp'))\n",
    "        convert_and_save(source_file, dest_file)\n",
    "        \n",
    "    for f in validation_files:\n",
    "        source_file = os.path.join(source_dir, f)\n",
    "        dest_file = os.path.join(valid_dir, f.replace('.png', '.bmp'))\n",
    "        convert_and_save(source_file, dest_file)\n",
    "    \n",
    "    print(f'Total files: {len(files)}')\n",
    "    print(f'Training files: {len(train_files)}')\n",
    "    print(f'Testing files: {len(test_files)}')\n",
    "    print(f'Validation files: {len(validation_files)}')\n",
    "    \n",
    "    # test every division is same\n",
    "\n",
    "    last_train_sum ,last_test_sum,last_valid_sum = 739164792,182438981,60031392\n",
    "    train_sum ,test_sum,valid_sum = 0,0,0\n",
    "    for f in train_files:\n",
    "        train_sum += int(f.split(\".\")[0])\n",
    "    for f in test_files:\n",
    "        test_sum += int(f.split(\".\")[0])\n",
    "    for f in validation_files:\n",
    "        valid_sum += int(f.split(\".\")[0])\n",
    "    print(f'Training sum: {train_sum}')\n",
    "    print(f'Testing sum: {test_sum}')\n",
    "    print(f'Validation sum: {valid_sum}')\n",
    "    print(f'is same? {train_sum == last_train_sum and test_sum == last_test_sum and last_valid_sum == valid_sum}')\n"
   ]
  },
  {
   "cell_type": "code",
   "execution_count": 28,
   "metadata": {},
   "outputs": [
    {
     "name": "stdout",
     "output_type": "stream",
     "text": [
      "Total files: 15000\n",
      "Training files: 12000\n",
      "Testing files: 3000\n",
      "Validation files: 1000\n",
      "Training sum: 739164792\n",
      "Testing sum: 182438981\n",
      "Validation sum: 60031392\n",
      "is same? True\n"
     ]
    }
   ],
   "source": [
    "split_train_test(\"../data/source/png\",\"../data/train/img\",\"../data/test/img\",\"../data/validation/img\")\n",
    "\n"
   ]
  },
  {
   "cell_type": "code",
   "execution_count": 29,
   "metadata": {},
   "outputs": [
    {
     "name": "stdout",
     "output_type": "stream",
     "text": [
      "Loading data count: 12000\n",
      "Loading data count: 3000\n",
      "Loading data count: 1000\n"
     ]
    },
    {
     "ename": "",
     "evalue": "",
     "output_type": "error",
     "traceback": [
      "\u001b[1;31m在当前单元格或上一个单元格中执行代码时 Kernel 崩溃。\n",
      "\u001b[1;31m请查看单元格中的代码，以确定故障的可能原因。\n",
      "\u001b[1;31m单击<a href='https://aka.ms/vscodeJupyterKernelCrash'>此处</a>了解详细信息。\n",
      "\u001b[1;31m有关更多详细信息，请查看 Jupyter <a href='command:jupyter.viewOutput'>log</a>。"
     ]
    }
   ],
   "source": [
    "make_caption(\"../data/source/json\",\"../data/train/img\",\"../data/train/\")\n",
    "make_caption(\"../data/source/json\",\"../data/test/img\",\"../data/test/\")\n",
    "make_caption(\"../data/source/json\",\"../data/validation/img\",\"../data/validation/\")\n"
   ]
  },
  {
   "cell_type": "code",
   "execution_count": null,
   "metadata": {},
   "outputs": [],
   "source": []
  }
 ],
 "metadata": {
  "kernelspec": {
   "display_name": "CoMER",
   "language": "python",
   "name": "python3"
  },
  "language_info": {
   "codemirror_mode": {
    "name": "ipython",
    "version": 3
   },
   "file_extension": ".py",
   "mimetype": "text/x-python",
   "name": "python",
   "nbconvert_exporter": "python",
   "pygments_lexer": "ipython3",
   "version": "3.7.12"
  }
 },
 "nbformat": 4,
 "nbformat_minor": 2
}
